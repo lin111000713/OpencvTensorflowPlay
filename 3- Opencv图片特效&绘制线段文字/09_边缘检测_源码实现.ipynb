{
 "cells": [
  {
   "cell_type": "markdown",
   "metadata": {},
   "source": [
    "使用sobel算子，源码的形式实现边缘检测\n",
    "\n",
    "1. 搞清楚，sobel算子的算法原理\n",
    "\n",
    "涉及的几个概念: 1. 算子模板 2. 图片卷积 3. 阈值判决\n",
    "\n",
    "- sobel的算子模板有水平和竖直方向上两种。\n",
    "```\n",
    "[1  2  1         [  1 0 -1\n",
    " 0  0  0           2 0 -2\n",
    "-1 -2 -1 ]          1 0 -1 ]\n",
    "```\n",
    "(3,3)的矩阵,第一个矩阵第一行(1,2,1) 第三行(-1,-2,-1)\n",
    "\n",
    "第二个矩阵竖直方向第一列(1,2,1)，第三列为(-1,-2,-1)\n",
    "\n",
    "- 图片的卷积 和 矩阵运算不是一回事\n",
    "\n",
    "矩阵是行列式相乘，卷积是这个算子方框中的每一个元素对应相乘之后再求和。\n",
    "\n",
    "举个例子:\n",
    "\n",
    "原来的图片 `[1 2 3 4]` 每个点是一个像素\n",
    "\n",
    "当前的计算模板是 `[a b c d]`\n",
    "\n",
    "卷积之后的结果(对应元素相乘):\n",
    "\n",
    "```\n",
    "a*1+b*2+c*3+d*4 = dst\n",
    "```\n",
    "\n",
    "这个运算得到的结果，就是我们所说的梯度。梯度有水平和竖直两种情况。\n",
    "\n",
    "使用arctan计算梯度的方向\n",
    "\n",
    "使用`sqrt(a*a+b*b)` 计算梯度的浮值 = (f>th)?边缘:非边缘\n",
    "\n",
    ">这里的a，我们的第一个算子称为竖直方向上的算子，竖直方向的算子与图片卷积得到的dst 就是a\n",
    "\n",
    "- b就是水平方向上的算子与图片卷积得到的dst"
   ]
  },
  {
   "cell_type": "code",
   "execution_count": 1,
   "metadata": {
    "collapsed": false
   },
   "outputs": [
    {
     "data": {
      "text/plain": [
       "255"
      ]
     },
     "execution_count": 1,
     "metadata": {},
     "output_type": "execute_result"
    }
   ],
   "source": [
    "import cv2\n",
    "import numpy as np\n",
    "import math\n",
    "img = cv2.imread('image0.jpg',1)\n",
    "imgInfo = img.shape\n",
    "height = imgInfo[0]\n",
    "width = imgInfo[1]\n",
    "cv2.imshow('src',img)\n",
    "        \n",
    "gray = cv2.cvtColor(img,cv2.COLOR_BGR2GRAY)\n",
    "# 最终的边缘检测图片\n",
    "dst = np.zeros((height,width,1),np.uint8)\n",
    "\n",
    "# 遍历图片中的每一个点\n",
    "# 我们的算子模板在最外围时会溢出\n",
    "for i in range(0,height-2):\n",
    "    for j in range(0,width-2):\n",
    "        # 计算水平方向和竖直方向的梯度\n",
    "        # 竖直方向的梯度\n",
    "        # 取原图片 gray[i,j] gray[i,j+1] gray[i,j+2] gray[i+2,j] gray[i+2,j+1] gray[i+2,j+2] 六个点。乘以模板中对应元素\n",
    "        # 其实是取九个点，因为第二行为0.不用写出来\n",
    "        gy = gray[i,j]*1+gray[i,j+1]*2+gray[i,j+2]*1-gray[i+2,j]*1-gray[i+2,j+1]*2-gray[i+2,j+2]*1\n",
    "        gx = gray[i,j]+gray[i+1,j]*2+gray[i+2,j]-gray[i,j+2]-gray[i+1,j+2]*2-gray[i+2,j+2]\n",
    "        # 计算梯度\n",
    "        grad = math.sqrt(gx*gx+gy*gy)\n",
    "        # 大于阈值\n",
    "        if grad>50:\n",
    "            dst[i,j] = 255\n",
    "        else:\n",
    "            dst[i,j] = 0\n",
    "cv2.imshow('dst',dst)\n",
    "cv2.waitKey(0)"
   ]
  }
 ],
 "metadata": {
  "kernelspec": {
   "display_name": "Python [Root]",
   "language": "python",
   "name": "Python [Root]"
  },
  "language_info": {
   "codemirror_mode": {
    "name": "ipython",
    "version": 3
   },
   "file_extension": ".py",
   "mimetype": "text/x-python",
   "name": "python",
   "nbconvert_exporter": "python",
   "pygments_lexer": "ipython3",
   "version": "3.5.1"
  }
 },
 "nbformat": 4,
 "nbformat_minor": 2
}
