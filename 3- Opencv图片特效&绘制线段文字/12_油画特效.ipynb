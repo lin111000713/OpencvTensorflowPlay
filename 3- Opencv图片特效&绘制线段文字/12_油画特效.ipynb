{
 "cells": [
  {
   "cell_type": "markdown",
   "metadata": {},
   "source": [
    "油画特效实现步骤:\n",
    "\n",
    "1. gray 灰度化\n",
    "2. 将图片分割为若干个小方块。统计这些小方块中每个像素的灰度值。\n",
    "\n",
    "```\n",
    "7*7 10*10 的小方块。决定油画细腻程度\n",
    "```\n",
    "3. 将0-255，共256划分为几个等级，并将第二步的映射到等级\n",
    "\n",
    ">如划分为4个段，每个段有64个等级。0-63 第一段；64-127第二段\n",
    "\n",
    "举例: 这时有一个像素点.灰度值是10，那么他就在0-63这个点\n",
    "\n",
    "4. 找到每个方块中灰度等级最多的所有像素. count 并求取这些像素的均值\n",
    "\n",
    "5. 用统计出来的平均值，替代我们原来的像素值。"
   ]
  },
  {
   "cell_type": "code",
   "execution_count": 1,
   "metadata": {
    "collapsed": false
   },
   "outputs": [
    {
     "data": {
      "text/plain": [
       "255"
      ]
     },
     "execution_count": 1,
     "metadata": {},
     "output_type": "execute_result"
    }
   ],
   "source": [
    "import cv2\n",
    "import numpy as np\n",
    "img = cv2.imread('image00.jpg',1)\n",
    "cv2.imshow('src',img)\n",
    "imgInfo = img.shape\n",
    "height = imgInfo[0]\n",
    "width = imgInfo[1]\n",
    "\n",
    "# 灰度化\n",
    "gray = cv2.cvtColor(img,cv2.COLOR_BGR2GRAY)\n",
    "# 新建空彩色图片模板\n",
    "dst = np.zeros((height,width,3),np.uint8)\n",
    "\n",
    "# 两层for循环遍历图片中的每个数据\n",
    "for i in range(4,height-4):\n",
    "    for j in range(4,width-4):\n",
    "        # 我们想定义的灰度等级是8个，定义一个数组。\n",
    "        # 装载8个像素的等级个数。\n",
    "        array1 = np.zeros(8,np.uint8)\n",
    "        \n",
    "        # 要知道小方块的大小，(8,8)\n",
    "        # 因为我们这里从-4开始，所以边界值要从4开始\n",
    "        for m in range(-4,4):\n",
    "            for n in range(-4,4):\n",
    "                # 将灰度等级划分为8个段，每个段是32\n",
    "                p1 = int(gray[i+m,j+n]/32)\n",
    "                # p1是等级。这个p1的个数+1\n",
    "                array1[p1] = array1[p1]+1\n",
    "        currentMax = array1[0]\n",
    "        # 记录是哪个段\n",
    "        l = 0\n",
    "        # 遍历这个列表，求最大值\n",
    "        for k in range(0,8):\n",
    "            if currentMax<array1[k]:\n",
    "                currentMax = array1[k]\n",
    "                l = k\n",
    "        # 简化 均值\n",
    "        for m in range(-4,4):\n",
    "            for n in range(-4,4):\n",
    "                # l是处于哪一个灰度段，32是它的灰度等级。\n",
    "                # 小于等于下一个灰度段，保证处于范围之内\n",
    "                if gray[i+m,j+n]>=(l*32) and gray[i+m,j+n]<=((l+1)*32):\n",
    "                    (b,g,r) = img[i+m,j+n]\n",
    "        dst[i,j] = (b,g,r)\n",
    "cv2.imshow('dst',dst)\n",
    "cv2.waitKey(0)"
   ]
  }
 ],
 "metadata": {
  "kernelspec": {
   "display_name": "Python [Root]",
   "language": "python",
   "name": "Python [Root]"
  },
  "language_info": {
   "codemirror_mode": {
    "name": "ipython",
    "version": 3
   },
   "file_extension": ".py",
   "mimetype": "text/x-python",
   "name": "python",
   "nbconvert_exporter": "python",
   "pygments_lexer": "ipython3",
   "version": "3.5.1"
  }
 },
 "nbformat": 4,
 "nbformat_minor": 2
}
