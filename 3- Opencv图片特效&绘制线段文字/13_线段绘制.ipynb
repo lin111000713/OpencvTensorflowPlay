{
 "cells": [
  {
   "cell_type": "code",
   "execution_count": 1,
   "metadata": {
    "collapsed": false
   },
   "outputs": [
    {
     "data": {
      "text/plain": [
       "255"
      ]
     },
     "execution_count": 1,
     "metadata": {},
     "output_type": "execute_result"
    }
   ],
   "source": [
    "import cv2\n",
    "import numpy as np\n",
    "\n",
    "# 图片宽高，颜色深度\n",
    "newImageInfo = (500,500,3)\n",
    "# 目标图片: 形状，数据类型\n",
    "dst = np.zeros(newImageInfo,np.uint8)\n",
    "\n",
    "# line方法\n",
    "# 绘制线段 参数1 画在那张图上:dst 参数2 begin坐标 3 end坐标 4 color\n",
    "cv2.line(dst,(100,100),(400,400),(0,0,255))\n",
    "# 参数5 line w(宽度)\n",
    "cv2.line(dst,(100,200),(400,200),(0,255,255),20)\n",
    "# 参数6 line type(圆弧光滑了许多)\n",
    "cv2.line(dst,(100,300),(400,300),(0,255,0),20,cv2.LINE_AA)\n",
    "\n",
    "# 绘制三角形，三个边组成一个闭合图像。坐标首尾相接。\n",
    "cv2.line(dst,(200,150),(50,250),(25,100,255))\n",
    "cv2.line(dst,(50,250),(400,380),(25,100,255))\n",
    "cv2.line(dst,(400,380),(200,150),(25,100,255))\n",
    "\n",
    "cv2.imshow('dst',dst)\n",
    "cv2.waitKey(0)"
   ]
  }
 ],
 "metadata": {
  "kernelspec": {
   "display_name": "Python [Root]",
   "language": "python",
   "name": "Python [Root]"
  },
  "language_info": {
   "codemirror_mode": {
    "name": "ipython",
    "version": 3
   },
   "file_extension": ".py",
   "mimetype": "text/x-python",
   "name": "python",
   "nbconvert_exporter": "python",
   "pygments_lexer": "ipython3",
   "version": "3.5.1"
  }
 },
 "nbformat": 4,
 "nbformat_minor": 2
}
