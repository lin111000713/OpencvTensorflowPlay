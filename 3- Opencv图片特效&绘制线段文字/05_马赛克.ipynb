{
 "cells": [
  {
   "cell_type": "code",
   "execution_count": 2,
   "metadata": {
    "collapsed": false
   },
   "outputs": [
    {
     "data": {
      "text/plain": [
       "255"
      ]
     },
     "execution_count": 2,
     "metadata": {},
     "output_type": "execute_result"
    }
   ],
   "source": [
    "import cv2\n",
    "import numpy as np\n",
    "img = cv2.imread('image0.jpg',1)\n",
    "imgInfo = img.shape\n",
    "height = imgInfo[0]\n",
    "width = imgInfo[1]\n",
    "\n",
    "# 遍历马赛克矩形范围内的所有点\n",
    "for m in range(100,300):\n",
    "    for n in range(100,200):\n",
    "        # 选择一个pixel点 -> 替换掉 10*10\n",
    "        # 每隔10个宽高，我们选取一个像素\n",
    "        if m%10 == 0 and n%10 == 0:\n",
    "            for i in range(0,10):\n",
    "                for j in range(0,10):\n",
    "                    # 获取一个像素点\n",
    "                    (b,g,r) = img[m,n]\n",
    "                    # 回填颜色\n",
    "                    img[i+m,j+n] = (b,g,r)\n",
    "cv2.imshow('dst',img)\n",
    "cv2.waitKey(0)"
   ]
  }
 ],
 "metadata": {
  "kernelspec": {
   "display_name": "Python [Root]",
   "language": "python",
   "name": "Python [Root]"
  },
  "language_info": {
   "codemirror_mode": {
    "name": "ipython",
    "version": 3
   },
   "file_extension": ".py",
   "mimetype": "text/x-python",
   "name": "python",
   "nbconvert_exporter": "python",
   "pygments_lexer": "ipython3",
   "version": "3.5.1"
  }
 },
 "nbformat": 4,
 "nbformat_minor": 2
}
