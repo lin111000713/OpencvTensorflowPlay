{
 "cells": [
  {
   "cell_type": "code",
   "execution_count": 1,
   "metadata": {
    "collapsed": false
   },
   "outputs": [
    {
     "data": {
      "text/plain": [
       "255"
      ]
     },
     "execution_count": 1,
     "metadata": {},
     "output_type": "execute_result"
    }
   ],
   "source": [
    "import cv2\n",
    "import numpy as np\n",
    "img = cv2.imread('image0.jpg',1)\n",
    "imgInfo = img.shape\n",
    "height = imgInfo[0]\n",
    "width = imgInfo[1]\n",
    "gray = cv2.cvtColor(img,cv2.COLOR_BGR2GRAY)\n",
    "# newP = gray0-gray1+150\n",
    "\n",
    "# 定义灰度图片\n",
    "dst = np.zeros((height,width,1),np.uint8)\n",
    "\n",
    "# 遍历原图片的每一个点\n",
    "for i in range(0,height):\n",
    "    # 因为边界值时相邻像素会溢出\n",
    "    for j in range(0,width-1):\n",
    "        # 当前像素\n",
    "        grayP0 = int(gray[i,j])\n",
    "        # 下一个像素。我们宽度-1就是为了防止j+1越界\n",
    "        grayP1 = int(gray[i,j+1])\n",
    "        # 当前像素-下一个像素+150\n",
    "        newP = grayP0-grayP1+150\n",
    "        \n",
    "        # 当前像素大于255.\n",
    "        if newP > 255:\n",
    "            newP = 255\n",
    "        if newP < 0:\n",
    "            newP = 0\n",
    "        dst[i,j] = newP\n",
    "cv2.imshow('dst',dst)\n",
    "cv2.waitKey(0)"
   ]
  }
 ],
 "metadata": {
  "kernelspec": {
   "display_name": "Python [Root]",
   "language": "python",
   "name": "Python [Root]"
  },
  "language_info": {
   "codemirror_mode": {
    "name": "ipython",
    "version": 3
   },
   "file_extension": ".py",
   "mimetype": "text/x-python",
   "name": "python",
   "nbconvert_exporter": "python",
   "pygments_lexer": "ipython3",
   "version": "3.5.1"
  }
 },
 "nbformat": 4,
 "nbformat_minor": 2
}
