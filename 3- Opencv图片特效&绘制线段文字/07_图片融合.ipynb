{
 "cells": [
  {
   "cell_type": "code",
   "execution_count": 1,
   "metadata": {
    "collapsed": false
   },
   "outputs": [
    {
     "data": {
      "text/plain": [
       "255"
      ]
     },
     "execution_count": 1,
     "metadata": {},
     "output_type": "execute_result"
    }
   ],
   "source": [
    "# 公式: dst  = src1*a + src2*(1-a)\n",
    "import cv2\n",
    "import numpy as np\n",
    "img0 = cv2.imread('image0.jpg',1)\n",
    "img1 = cv2.imread('image1.jpg',1)\n",
    "imgInfo = img0.shape\n",
    "height = imgInfo[0]\n",
    "width = imgInfo[1]\n",
    "\n",
    "# ROI 感兴趣范围区域(高宽均为原来的一半)\n",
    "roiH = int(height/2)\n",
    "roiW = int(width/2)\n",
    "\n",
    "# 行对应我们的高度，列对应我们的宽度\n",
    "img0ROI = img0[0:roiH,0:roiW]\n",
    "img1ROI = img1[0:roiH,0:roiW]\n",
    "\n",
    "# dst 目标图片\n",
    "dst = np.zeros((roiH,roiW,3),np.uint8)\n",
    "# addWeighted 两张图片的权重相加\n",
    "# 第一张图片，权重，第二张图片，权重\n",
    "dst = cv2.addWeighted(img0ROI,0.5,img1ROI,0.5,0) # add src1*a+src2*(1-a)\n",
    "# 参数1 src1 参数2 a 参数3 src2 参数4 1-a\n",
    "cv2.imshow('dst',dst)\n",
    "cv2.waitKey(0)"
   ]
  }
 ],
 "metadata": {
  "kernelspec": {
   "display_name": "Python [Root]",
   "language": "python",
   "name": "Python [Root]"
  },
  "language_info": {
   "codemirror_mode": {
    "name": "ipython",
    "version": 3
   },
   "file_extension": ".py",
   "mimetype": "text/x-python",
   "name": "python",
   "nbconvert_exporter": "python",
   "pygments_lexer": "ipython3",
   "version": "3.5.1"
  }
 },
 "nbformat": 4,
 "nbformat_minor": 2
}
