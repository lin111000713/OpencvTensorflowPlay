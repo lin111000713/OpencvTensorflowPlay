{
 "cells": [
  {
   "cell_type": "code",
   "execution_count": 2,
   "metadata": {
    "collapsed": false
   },
   "outputs": [
    {
     "name": "stdout",
     "output_type": "stream",
     "text": [
      "(5, 2)\n",
      "(5, 1, 2)\n"
     ]
    },
    {
     "data": {
      "text/plain": [
       "255"
      ]
     },
     "execution_count": 2,
     "metadata": {},
     "output_type": "execute_result"
    }
   ],
   "source": [
    "import cv2\n",
    "import numpy as np\n",
    "newImageInfo = (500,500,3)\n",
    "dst = np.zeros(newImageInfo,np.uint8)\n",
    "\n",
    "\n",
    "# 参数1 目标图片; 2 左上角; 3 右下角; 4 颜色 \n",
    "# 参数5 内容是否fill(填充) if -1(填充)  if(>0) 该参数变为line宽度\n",
    "cv2.rectangle(dst,(50,100),(200,300),(255,0,0),5)\n",
    "# 参数2 圆心坐标center 参数3 r半径; 参数4 颜色 -1表示填充 >0表明线条宽度\n",
    "cv2.circle(dst,(250,250),(50),(0,255,0),2)\n",
    "# 参数2 椭圆心坐标center \n",
    "# 参数3 轴的长度(有两个轴，所以有两个值)\n",
    "# 参数4 angle偏转角度 \n",
    "# 参数5 begin角度 \n",
    "# 参数6 end角度\n",
    "# 参数7颜色，8内容是否填充\n",
    "cv2.ellipse(dst,(256,256),(150,100),0,0,180,(255,255,0),-1)\n",
    "\n",
    "# 任意多边形\n",
    "points = np.array([[150,50],[140,140],[200,170],[250,250],[150,50]],np.int32)\n",
    "# 五行两列\n",
    "print(points.shape)\n",
    "# reshape成5行一列，深度为2 维度转换\n",
    "points = points.reshape((-1,1,2))\n",
    "print(points.shape)\n",
    "# 多边形绘制方法: 目标图片，2 点的集合，是否闭合，颜色\n",
    "cv2.polylines(dst,[points],True,(0,255,255))\n",
    "cv2.imshow('dst',dst)\n",
    "cv2.waitKey(0)"
   ]
  }
 ],
 "metadata": {
  "anaconda-cloud": {},
  "kernelspec": {
   "display_name": "Python [Root]",
   "language": "python",
   "name": "Python [Root]"
  },
  "language_info": {
   "codemirror_mode": {
    "name": "ipython",
    "version": 3
   },
   "file_extension": ".py",
   "mimetype": "text/x-python",
   "name": "python",
   "nbconvert_exporter": "python",
   "pygments_lexer": "ipython3",
   "version": "3.5.1"
  }
 },
 "nbformat": 4,
 "nbformat_minor": 2
}
