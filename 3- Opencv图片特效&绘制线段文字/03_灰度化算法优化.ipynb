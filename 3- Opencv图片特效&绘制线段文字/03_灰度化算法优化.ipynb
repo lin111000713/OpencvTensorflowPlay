{
 "cells": [
  {
   "cell_type": "markdown",
   "metadata": {},
   "source": [
    "1.  灰度是本章中最重要的知识点 \n",
    "2.  它是很多图像识别的基础 \n",
    "3.  图像算法的实时性(算法优化)\n",
    "\n",
    "优化的基本原则:\n",
    "    \n",
    ">- 定点 快于 浮点\n",
    "- 加减 快于 乘除法；移位操作比乘除法更要快些\n",
    "\n",
    "> 心理学公式: `r*0.299+g*0.587+b*0.114`\n",
    "\n",
    "优化这个公式。\n",
    "\n",
    "我们乘以4来优化误差比较大。\n",
    "我们可以通过乘以128 512 1024等更大的数进行优化。\n",
    "\n",
    "- 浮点转整型，整型转移位运算"
   ]
  },
  {
   "cell_type": "code",
   "execution_count": 1,
   "metadata": {
    "collapsed": false
   },
   "outputs": [
    {
     "data": {
      "text/plain": [
       "255"
      ]
     },
     "execution_count": 1,
     "metadata": {},
     "output_type": "execute_result"
    }
   ],
   "source": [
    "import cv2\n",
    "import numpy as np\n",
    "img = cv2.imread('image0.jpg',1)\n",
    "imgInfo = img.shape\n",
    "height = imgInfo[0]\n",
    "width = imgInfo[1]\n",
    "# RGB R=G=B = gray  (R+G+B)/3\n",
    "dst = np.zeros((height,width,3),np.uint8)\n",
    "for i in range(0,height):\n",
    "    for j in range(0,width):\n",
    "        (b,g,r) = img[i,j]\n",
    "        b = int(b)\n",
    "        g = int(g)\n",
    "        r = int(r)\n",
    "        # 浮点运算转为定点运算。有误差但是可以用。\n",
    "        \n",
    "        # gray = (r*1+g*2+b*1)/4\n",
    "        \n",
    "        # 乘以1全部省略掉，乘以2相当于放大两倍。\n",
    "        # 左移一位扩大2\n",
    "        # 右移两位除以4\n",
    "        gray = (r+(g<<1)+b)>>2\n",
    "        dst[i,j] = np.uint8(gray)\n",
    "cv2.imshow('dst',dst)\n",
    "cv2.waitKey(0)"
   ]
  }
 ],
 "metadata": {
  "kernelspec": {
   "display_name": "Python [Root]",
   "language": "python",
   "name": "Python [Root]"
  },
  "language_info": {
   "codemirror_mode": {
    "name": "ipython",
    "version": 3
   },
   "file_extension": ".py",
   "mimetype": "text/x-python",
   "name": "python",
   "nbconvert_exporter": "python",
   "pygments_lexer": "ipython3",
   "version": "3.5.1"
  }
 },
 "nbformat": 4,
 "nbformat_minor": 2
}
