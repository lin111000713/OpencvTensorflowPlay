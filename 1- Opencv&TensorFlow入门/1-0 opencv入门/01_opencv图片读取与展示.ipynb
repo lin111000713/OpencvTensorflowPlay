{
 "cells": [
  {
   "cell_type": "markdown",
   "metadata": {},
   "source": [
    "1. 引入opencv\n",
    "2. APi,读取展示\n",
    "3. 程序的暂停(不然会一瞬即逝)"
   ]
  },
  {
   "cell_type": "code",
   "execution_count": 1,
   "metadata": {
    "collapsed": false
   },
   "outputs": [
    {
     "data": {
      "text/plain": [
       "255"
      ]
     },
     "execution_count": 1,
     "metadata": {},
     "output_type": "execute_result"
    }
   ],
   "source": [
    "import cv2 \n",
    "\n",
    "# imread:参数1: 图片的名称，参数2: 图片的类型。\n",
    "# 0 gray灰度图片 1 彩色图片 ；返回当前图片内容\n",
    "img = cv2.imread('image0.jpg',1)\n",
    "\n",
    "# imshow，参数1: 窗体名称, 参数2: 要展示的图片内容\n",
    "cv2.imshow('image',img)\n",
    "\n",
    "# 程序stop\n",
    "cv2.waitKey (0)"
   ]
  },
  {
   "cell_type": "code",
   "execution_count": 2,
   "metadata": {
    "collapsed": false
   },
   "outputs": [
    {
     "data": {
      "text/plain": [
       "'3.2.0'"
      ]
     },
     "execution_count": 2,
     "metadata": {},
     "output_type": "execute_result"
    }
   ],
   "source": [
    "cv2.__version__"
   ]
  }
 ],
 "metadata": {
  "kernelspec": {
   "display_name": "Python [Root]",
   "language": "python",
   "name": "Python [Root]"
  },
  "language_info": {
   "codemirror_mode": {
    "name": "ipython",
    "version": 3
   },
   "file_extension": ".py",
   "mimetype": "text/x-python",
   "name": "python",
   "nbconvert_exporter": "python",
   "pygments_lexer": "ipython3",
   "version": "3.5.1"
  }
 },
 "nbformat": 4,
 "nbformat_minor": 2
}
