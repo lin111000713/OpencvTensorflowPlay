{
 "cells": [
  {
   "cell_type": "code",
   "execution_count": 2,
   "metadata": {
    "collapsed": false
   },
   "outputs": [
    {
     "data": {
      "text/plain": [
       "True"
      ]
     },
     "execution_count": 2,
     "metadata": {},
     "output_type": "execute_result"
    }
   ],
   "source": [
    "import cv2\n",
    "\n",
    "# 读取图片\n",
    "img = cv2.imread('image0.jpg',1)\n",
    "\n",
    "# 第一个参数: 图片名称 \n",
    "# 第二个参数: 图片的原始数据\n",
    "# 第三个参数: 图片的质量(0-100)\n",
    "cv2.imwrite('imageTest.jpg',img,[cv2.IMWRITE_JPEG_QUALITY,50])\n",
    "# 1M 100k(正常) 10k(模糊) 0-100 有损压缩（以牺牲图片质量为代价）\n"
   ]
  },
  {
   "cell_type": "markdown",
   "metadata": {},
   "source": [
    "### png的压缩\n",
    "\n",
    "1. 无损压缩\n",
    "2. 透明度属性(除过可以修改rgb值还可以修改透明度)"
   ]
  },
  {
   "cell_type": "code",
   "execution_count": 3,
   "metadata": {
    "collapsed": false
   },
   "outputs": [
    {
     "data": {
      "text/plain": [
       "True"
      ]
     },
     "execution_count": 3,
     "metadata": {},
     "output_type": "execute_result"
    }
   ],
   "source": [
    "import cv2\n",
    "img = cv2.imread('image0.jpg',1)\n",
    "\n",
    "# 名字，内容，压缩比属性\n",
    "cv2.imwrite('imageTest.png',img,[cv2.IMWRITE_PNG_COMPRESSION,0])\n",
    "\n",
    "# jpg 0 压缩比高(0-100) \n",
    "# png 0 压缩比低 (0-9) 图片会变大"
   ]
  },
  {
   "cell_type": "code",
   "execution_count": null,
   "metadata": {
    "collapsed": true
   },
   "outputs": [],
   "source": []
  }
 ],
 "metadata": {
  "kernelspec": {
   "display_name": "Python [Root]",
   "language": "python",
   "name": "Python [Root]"
  },
  "language_info": {
   "codemirror_mode": {
    "name": "ipython",
    "version": 3
   },
   "file_extension": ".py",
   "mimetype": "text/x-python",
   "name": "python",
   "nbconvert_exporter": "python",
   "pygments_lexer": "ipython3",
   "version": "3.5.1"
  }
 },
 "nbformat": 4,
 "nbformat_minor": 2
}
