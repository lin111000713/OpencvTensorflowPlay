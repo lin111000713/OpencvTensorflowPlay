{
 "cells": [
  {
   "cell_type": "code",
   "execution_count": 1,
   "metadata": {
    "collapsed": false,
    "scrolled": true
   },
   "outputs": [
    {
     "data": {
      "text/plain": [
       "255"
      ]
     },
     "execution_count": 1,
     "metadata": {},
     "output_type": "execute_result"
    }
   ],
   "source": [
    "import cv2 \n",
    "# 1 文件的读取 2 封装格式解析 3 数据解码 4 数据加载\n",
    "# 2,3 步骤是opencv内部帮我们做的\n",
    "img = cv2.imread('image0.jpg',1)\n",
    "\n",
    "cv2.imshow('image',img)\n",
    "\n",
    "# 图片格式: jpg png（文件的封装格式）；\n",
    "# 文件会由两部分组成: \n",
    "# 1 文件头: 数据部分的解码信息和附加信息\n",
    "# 2 文件数据（不指图片原始数据，而指图片进行压缩编码之后的数据）\n",
    "# 解码器根据解码信息和附加信息将图像还原成原始数据\n",
    "\n",
    "cv2.waitKey (0)\n",
    "# 1.14M  压缩过 130k ，方便存储传输"
   ]
  },
  {
   "cell_type": "markdown",
   "metadata": {},
   "source": [
    "### 完成文件的写入"
   ]
  },
  {
   "cell_type": "code",
   "execution_count": 2,
   "metadata": {
    "collapsed": false
   },
   "outputs": [
    {
     "data": {
      "text/plain": [
       "True"
      ]
     },
     "execution_count": 2,
     "metadata": {},
     "output_type": "execute_result"
    }
   ],
   "source": [
    "import cv2\n",
    "# 1 图片名称 2 图片类型为1彩色图片 返回图片内容\n",
    "img = cv2.imread('image0.jpg',1)\n",
    "# 参数1: 图片名称 参数2: 图片的数据(解码之后的图片原始数据)\n",
    "cv2.imwrite('image1.jpg',img) # 1 name 2 data "
   ]
  }
 ],
 "metadata": {
  "kernelspec": {
   "display_name": "Python [Root]",
   "language": "python",
   "name": "Python [Root]"
  },
  "language_info": {
   "codemirror_mode": {
    "name": "ipython",
    "version": 3
   },
   "file_extension": ".py",
   "mimetype": "text/x-python",
   "name": "python",
   "nbconvert_exporter": "python",
   "pygments_lexer": "ipython3",
   "version": "3.5.1"
  }
 },
 "nbformat": 4,
 "nbformat_minor": 2
}
