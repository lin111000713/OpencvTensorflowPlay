{
 "cells": [
  {
   "cell_type": "markdown",
   "metadata": {},
   "source": [
    "## opencv tensorflow\n",
    "\n",
    "- 类比 语法 api 原理 \n",
    "- 语言要素: 基础数据类型 运算符 流程 字典 数组 "
   ]
  },
  {
   "cell_type": "code",
   "execution_count": 1,
   "metadata": {
    "collapsed": false
   },
   "outputs": [
    {
     "name": "stdout",
     "output_type": "stream",
     "text": [
      "Tensor(\"Const:0\", shape=(), dtype=int32)\n",
      "<tf.Variable 'var:0' shape=() dtype=int32_ref>\n",
      "2\n",
      "10\n"
     ]
    }
   ],
   "source": [
    "import tensorflow as tf\n",
    "\n",
    "# 常量，指定数据类型\n",
    "data1 = tf.constant(2,dtype=tf.int32)\n",
    "\n",
    "# 变量，指定变量名\n",
    "data2 = tf.Variable(10,name='var')\n",
    "\n",
    "\n",
    "print(data1)\n",
    "print(data2)\n",
    "\n",
    "'''\n",
    "sess = tf.Session()\n",
    "print(sess.run(data1))\n",
    "\n",
    "# 这里可以正确打印出data1\n",
    "\n",
    "init = tf.global_variables_initializer()\n",
    "sess.run(init)\n",
    "\n",
    "# 但是当我们仍要用这个sess打印data2时会报错\n",
    "# 对于变量数值，我们要进行初始化。\n",
    "print(sess.run(data2))\n",
    "sess.close()\n",
    "# 本质 tf = tensor + 计算图\n",
    "# tensor 数据\n",
    "# op \n",
    "# graphs 数据操作\n",
    "# session\n",
    "'''\n",
    "init = tf.global_variables_initializer()\n",
    "sess = tf.Session()\n",
    "with sess:\n",
    "    sess.run(init)\n",
    "    print(sess.run(data1))\n",
    "    print(sess.run(data2))"
   ]
  }
 ],
 "metadata": {
  "kernelspec": {
   "display_name": "Python [Root]",
   "language": "python",
   "name": "Python [Root]"
  },
  "language_info": {
   "codemirror_mode": {
    "name": "ipython",
    "version": 3
   },
   "file_extension": ".py",
   "mimetype": "text/x-python",
   "name": "python",
   "nbconvert_exporter": "python",
   "pygments_lexer": "ipython3",
   "version": "3.5.1"
  }
 },
 "nbformat": 4,
 "nbformat_minor": 2
}
