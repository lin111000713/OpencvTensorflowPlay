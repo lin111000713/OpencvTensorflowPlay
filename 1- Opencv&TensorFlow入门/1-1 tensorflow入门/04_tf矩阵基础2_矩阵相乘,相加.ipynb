{
 "cells": [
  {
   "cell_type": "code",
   "execution_count": 1,
   "metadata": {
    "collapsed": false
   },
   "outputs": [
    {
     "name": "stdout",
     "output_type": "stream",
     "text": [
      "[[24]]\n",
      "[[9 9]]\n",
      "[[12 12]\n",
      " [12 12]]\n",
      "[array([[24]]), array([[9, 9]])]\n"
     ]
    }
   ],
   "source": [
    "import tensorflow as tf\n",
    "data1 = tf.constant([[6,6]])\n",
    "data2 = tf.constant([[2],\n",
    "                     [2]])\n",
    "data3 = tf.constant([[3,3]])\n",
    "data4 = tf.constant([[1,2],\n",
    "                     [3,4],\n",
    "                     [5,6]])\n",
    "\n",
    "# 矩阵相乘\n",
    "matMul = tf.matmul(data1,data2)\n",
    "\n",
    "# 直接使用简单乘法，对应元素相乘\n",
    "matMul2 = tf.multiply(data1,data2)\n",
    "\n",
    "# 矩阵相加\n",
    "matAdd = tf.add(data1,data3)\n",
    "\n",
    "with tf.Session() as sess:\n",
    "    print(sess.run(matMul))# data1 (1,2) 乘以 data2(2,1) 得到结果(1,1)\n",
    "    print(sess.run(matAdd))# 1行2列 加 1行2列 还是一行两列\n",
    "    print(sess.run(matMul2))# 1x2 2x1 = 2x2 这里涉及到python的广播机制\n",
    "    # [6,6] 和 [[2].[2]] 都会被补全成一个2x2的矩阵。然后对应元素相乘\n",
    "    \n",
    "    # 使用print一次打印多个内容\n",
    "    print(sess.run([matMul,matAdd]))"
   ]
  }
 ],
 "metadata": {
  "anaconda-cloud": {},
  "kernelspec": {
   "display_name": "Python [Root]",
   "language": "python",
   "name": "Python [Root]"
  },
  "language_info": {
   "codemirror_mode": {
    "name": "ipython",
    "version": 3
   },
   "file_extension": ".py",
   "mimetype": "text/x-python",
   "name": "python",
   "nbconvert_exporter": "python",
   "pygments_lexer": "ipython3",
   "version": "3.5.1"
  }
 },
 "nbformat": 4,
 "nbformat_minor": 2
}
