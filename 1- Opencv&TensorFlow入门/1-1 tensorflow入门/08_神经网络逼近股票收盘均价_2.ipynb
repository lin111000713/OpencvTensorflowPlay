{
 "cells": [
  {
   "cell_type": "markdown",
   "metadata": {},
   "source": [
    "搞清各个矩阵的形状及维数的变化\n",
    "\n",
    "```\n",
    "A(15x1)*w1(1x10)+b1(1*10) = B(15x10)\n",
    "B(15x10)*w2(10x1)+b2(15x1) = C(15x1)\n",
    "A B C\n",
    "```\n"
   ]
  },
  {
   "cell_type": "code",
   "execution_count": 2,
   "metadata": {
    "collapsed": false
   },
   "outputs": [
    {
     "name": "stdout",
     "output_type": "stream",
     "text": [
      "[ 1.  2.  3.  4.  5.  6.  7.  8.  9. 10. 11. 12. 13. 14. 15.]\n"
     ]
    },
    {
     "data": {
      "image/png": "[encoded data removed]",
      "text/plain": [
       "<matplotlib.figure.Figure at 0x1e5c2a5fc88>"
      ]
     },
     "metadata": {},
     "output_type": "display_data"
    }
   ],
   "source": [
    "import tensorflow as tf\n",
    "import numpy as np\n",
    "import matplotlib.pyplot as plt\n",
    "%matplotlib inline\n",
    "date = np.linspace(1,15,15)\n",
    "endPrice = np.array([2511.90,2538.26,2510.68,2591.66,2732.98,2701.69,2701.29,2678.67,2726.50,2681.50,2739.17,2715.07,2823.58,2864.90,2919.08]\n",
    ")\n",
    "beginPrice = np.array([2438.71,2500.88,2534.95,2512.52,2594.04,2743.26,2697.47,2695.24,2678.23,2722.13,2674.93,2744.13,2717.46,2832.73,2877.40])\n",
    "print(date)\n",
    "plt.figure()\n",
    "for i in range(0,15):\n",
    "    # 1 柱状图\n",
    "    dateOne = np.zeros([2])\n",
    "    dateOne[0] = i;\n",
    "    dateOne[1] = i;\n",
    "    priceOne = np.zeros([2])\n",
    "    priceOne[0] = beginPrice[i]\n",
    "    priceOne[1] = endPrice[i]\n",
    "    if endPrice[i]>beginPrice[i]:\n",
    "        plt.plot(dateOne,priceOne,'r',lw=8)\n",
    "    else:\n",
    "        plt.plot(dateOne,priceOne,'g',lw=8)\n",
    "# 输入的日期\n",
    "dateNormal = np.zeros([15,1])\n",
    "# 输出的价格\n",
    "priceNormal = np.zeros([15,1])\n",
    "\n",
    "# 进行归一化处理\n",
    "for i in range(0,15):\n",
    "    # 日期最大14\n",
    "    dateNormal[i,0] = i/14.0;\n",
    "    # 价格不会超出3000\n",
    "    priceNormal[i,0] = endPrice[i]/3000.0\n",
    "    \n",
    "# 一个n行一列的占位符\n",
    "x = tf.placeholder(tf.float32,[None,1])\n",
    "# 一个n行一列的占位符\n",
    "y = tf.placeholder(tf.float32,[None,1])\n",
    "\n",
    "# 隐藏层B\n",
    "# w1是会被修改的。所以定义一个变量。\n",
    "# 初值随机，一行十列，0到1之间\n",
    "w1 = tf.Variable(tf.random_uniform([1,10],0,1))\n",
    "\n",
    "# 偏置矩阵一行十列\n",
    "b1 = tf.Variable(tf.zeros([1,10]))\n",
    "\n",
    "# wb1也就是隐藏层的输出值是x乘以w1加上b1\n",
    "wb1 = tf.matmul(x,w1)+b1\n",
    "# 激励函数增加非线性元素。\n",
    "layer1 = tf.nn.relu(wb1) # 激励函数\n",
    "\n",
    "# 输出层\n",
    "w2 = tf.Variable(tf.random_uniform([10,1],0,1))\n",
    "b2 = tf.Variable(tf.zeros([15,1]))\n",
    "\n",
    "wb2 = tf.matmul(layer1,w2)+b2\n",
    "layer2 = tf.nn.relu(wb2) #完成简单映射\n",
    "\n",
    "# 损失函数(真实值-预测值)的平方。开放出来的结果再进行一个均值\n",
    "loss = tf.reduce_mean(tf.square(y-layer2))#y 真实 layer2 计算\n",
    "\n",
    "# 梯度下降法，梯度下降法。参数为学习率，目标是最小化loss\n",
    "train_step = tf.train.GradientDescentOptimizer(0.1).minimize(loss)\n",
    "\n",
    "with tf.Session() as sess:\n",
    "    # 初始化所有的全局变量\n",
    "    sess.run(tf.global_variables_initializer())\n",
    "    # 程序终止: for循环次数\n",
    "    for i in range(0,10000):\n",
    "        # x，y值填入归一化之后的x，y\n",
    "        sess.run(train_step,feed_dict={x:dateNormal,y:priceNormal})\n",
    "    \n",
    "    # 进行预测验证\n",
    "    # w1w2 b1b2  A + wb -->layer2 得到新的预测值\n",
    "    pred = sess.run(layer2,feed_dict={x:dateNormal})\n",
    "    predPrice = np.zeros([15,1])\n",
    "    # 还原当前价格。（反归一化）\n",
    "    for i in range(0,15):\n",
    "        predPrice[i,0]=(pred*3000)[i,0]\n",
    "    plt.plot(date,predPrice,'b',lw=1)\n",
    "plt.show()"
   ]
  }
 ],
 "metadata": {
  "kernelspec": {
   "display_name": "Python [Root]",
   "language": "python",
   "name": "Python [Root]"
  },
  "language_info": {
   "codemirror_mode": {
    "name": "ipython",
    "version": 3
   },
   "file_extension": ".py",
   "mimetype": "text/x-python",
   "name": "python",
   "nbconvert_exporter": "python",
   "pygments_lexer": "ipython3",
   "version": "3.5.1"
  }
 },
 "nbformat": 4,
 "nbformat_minor": 2
}
