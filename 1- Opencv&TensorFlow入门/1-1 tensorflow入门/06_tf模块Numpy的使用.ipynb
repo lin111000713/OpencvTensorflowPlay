{
 "cells": [
  {
   "cell_type": "markdown",
   "metadata": {},
   "source": [
    "### 类比数据的学习: CURD"
   ]
  },
  {
   "cell_type": "code",
   "execution_count": 1,
   "metadata": {
    "collapsed": false
   },
   "outputs": [
    {
     "name": "stdout",
     "output_type": "stream",
     "text": [
      "[1 2 3 4 5]\n",
      "***************\n",
      "[[1 2]\n",
      " [3 4]]\n",
      "***************\n",
      "(5,) (2, 2)\n",
      "***************\n",
      "[[0. 0. 0.]\n",
      " [0. 0. 0.]] [[1. 1.]\n",
      " [1. 1.]]\n",
      "***************\n",
      "[[1 2]\n",
      " [5 4]]\n",
      "4\n",
      "***************\n",
      "[[2. 2. 2.]\n",
      " [2. 2. 2.]]\n",
      "[[0.33333333 0.33333333 0.33333333]\n",
      " [0.33333333 0.33333333 0.33333333]]\n",
      "[[3. 3. 3.]\n",
      " [3. 3. 3.]]\n",
      "***************\n",
      "[[2. 3. 4.]\n",
      " [5. 6. 7.]]\n",
      "***************\n",
      "[[1. 2. 3.]\n",
      " [4. 5. 6.]]\n"
     ]
    }
   ],
   "source": [
    "# CURD\n",
    "import numpy as np\n",
    "\n",
    "# 一维数组\n",
    "data1 = np.array([1,2,3,4,5])\n",
    "print(data1)\n",
    "print('***************')\n",
    "\n",
    "# 两行两列数组\n",
    "data2 = np.array([[1,2],\n",
    "                  [3,4]])\n",
    "print(data2)\n",
    "print('***************')\n",
    "\n",
    "# 矩阵的维度\n",
    "print(data1.shape,data2.shape)\n",
    "print('***************')\n",
    "\n",
    "# 初始化特殊矩阵 zeros ones\n",
    "print(np.zeros([2,3]),np.ones([2,2]))\n",
    "print('***************')\n",
    "\n",
    "# 改查: 修改第二行第一列数据\n",
    "data2[1,0] = 5\n",
    "print(data2)\n",
    "# 查询第二行第二列数据\n",
    "print(data2[1,1])\n",
    "print('***************')\n",
    "\n",
    "# 基本运算:加减乘除\n",
    "\n",
    "# 两行三列的全一矩阵\n",
    "data3 = np.ones([2,3])\n",
    "\n",
    "# 简单乘除加法\n",
    "print(data3*2) # 对应每个元素乘2\n",
    "print(data3/3) # 对应元素除以3\n",
    "print(data3+2) # 所有元素加2\n",
    "print('***************')\n",
    "\n",
    "# 矩阵 +*\n",
    "\n",
    "# 两行三列矩阵\n",
    "data4 = np.array([[1,2,3],[4,5,6]])\n",
    "\n",
    "# 矩阵对应位置元素相加\n",
    "print(data3+data4)\n",
    "print('***************')\n",
    "\n",
    "# 矩阵对应位置元素相乘\n",
    "print(data3*data4)"
   ]
  }
 ],
 "metadata": {
  "anaconda-cloud": {},
  "kernelspec": {
   "display_name": "Python [Root]",
   "language": "python",
   "name": "Python [Root]"
  },
  "language_info": {
   "codemirror_mode": {
    "name": "ipython",
    "version": 3
   },
   "file_extension": ".py",
   "mimetype": "text/x-python",
   "name": "python",
   "nbconvert_exporter": "python",
   "pygments_lexer": "ipython3",
   "version": "3.5.1"
  }
 },
 "nbformat": 4,
 "nbformat_minor": 2
}
