{
 "cells": [
  {
   "cell_type": "code",
   "execution_count": 1,
   "metadata": {
    "collapsed": false
   },
   "outputs": [
    {
     "name": "stdout",
     "output_type": "stream",
     "text": [
      "[[0 0 0]\n",
      " [0 0 0]]\n",
      "************\n",
      "[[0. 0. 0.]\n",
      " [0. 0. 0.]]\n",
      "************\n",
      "[[1. 1.]\n",
      " [1. 1.]\n",
      " [1. 1.]]\n",
      "************\n",
      "[[15 15 15]\n",
      " [15 15 15]]\n"
     ]
    }
   ],
   "source": [
    "import tensorflow as tf\n",
    "\n",
    "# 两行三列零矩阵\n",
    "mat0 = tf.constant([[0,0,0],[0,0,0]])\n",
    "\n",
    "# 两行三列零矩阵\n",
    "mat1 = tf.zeros([2,3])\n",
    "\n",
    "# 三行两列一矩阵\n",
    "mat2 = tf.ones([3,2])\n",
    "\n",
    "# 两行三列填充矩阵(15)\n",
    "mat3 = tf.fill([2,3],15)\n",
    "with tf.Session() as sess:\n",
    "    print(sess.run(mat0))\n",
    "    print('************')\n",
    "    print(sess.run(mat1))\n",
    "    print('************')\n",
    "    print(sess.run(mat2))\n",
    "    print('************')\n",
    "    print(sess.run(mat3))"
   ]
  },
  {
   "cell_type": "markdown",
   "metadata": {},
   "source": [
    "### 一些更为特殊的矩阵"
   ]
  },
  {
   "cell_type": "code",
   "execution_count": 2,
   "metadata": {
    "collapsed": false
   },
   "outputs": [
    {
     "name": "stdout",
     "output_type": "stream",
     "text": [
      "[[0]\n",
      " [0]\n",
      " [0]]\n",
      "************\n",
      "[0.        0.2       0.4       0.6       0.8       1.        1.2\n",
      " 1.4       1.6       1.8000001 2.       ]\n",
      "************\n",
      "[[ 0.5634475  -0.28132176  1.3105965 ]\n",
      " [ 1.5659862   0.65178156 -0.8895434 ]]\n"
     ]
    }
   ],
   "source": [
    "import tensorflow as tf\n",
    "# 三行一列的矩阵\n",
    "mat1 = tf.constant([[2],[3],[4]])\n",
    "# 与mat1具有相同的维度，但mat2内容为0\n",
    "mat2 = tf.zeros_like(mat1)\n",
    "\n",
    "# 将0-2之间数据分成相等的10份，中间有10个数据，要填11\n",
    "mat3 = tf.linspace(0.0,2.0,11)\n",
    "\n",
    "# 随机数矩阵，2行三列，数字为-1到2之间的随机数\n",
    "mat4 = tf.random_uniform([2,3],-1,2)\n",
    "\n",
    "\n",
    "with tf.Session() as sess:\n",
    "    print(sess.run(mat2))\n",
    "    print('************')\n",
    "    print(sess.run(mat3))\n",
    "    print('************')\n",
    "    print(sess.run(mat4))"
   ]
  }
 ],
 "metadata": {
  "anaconda-cloud": {},
  "kernelspec": {
   "display_name": "Python [Root]",
   "language": "python",
   "name": "Python [Root]"
  },
  "language_info": {
   "codemirror_mode": {
    "name": "ipython",
    "version": 3
   },
   "file_extension": ".py",
   "mimetype": "text/x-python",
   "name": "python",
   "nbconvert_exporter": "python",
   "pygments_lexer": "ipython3",
   "version": "3.5.1"
  }
 },
 "nbformat": 4,
 "nbformat_minor": 2
}
