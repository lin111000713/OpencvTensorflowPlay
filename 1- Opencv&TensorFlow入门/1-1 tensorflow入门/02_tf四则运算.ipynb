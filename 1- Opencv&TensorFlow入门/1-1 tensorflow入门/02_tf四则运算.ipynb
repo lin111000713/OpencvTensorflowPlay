{
 "cells": [
  {
   "cell_type": "code",
   "execution_count": 1,
   "metadata": {
    "collapsed": false,
    "scrolled": true
   },
   "outputs": [
    {
     "name": "stdout",
     "output_type": "stream",
     "text": [
      "8\n",
      "12\n",
      "4\n",
      "3.0\n",
      "end!\n"
     ]
    }
   ],
   "source": [
    "import tensorflow as tf\n",
    "\n",
    "# 两个常量\n",
    "data1 = tf.constant(6)\n",
    "data2 = tf.constant(2)\n",
    "\n",
    "# 定义一个加法操作\n",
    "dataAdd = tf.add(data1,data2)\n",
    "# 定义一个乘法操作\n",
    "dataMul = tf.multiply(data1,data2)\n",
    "# 定义一个减法操作\n",
    "dataSub = tf.subtract(data1,data2)\n",
    "# 定义一个除法操作\n",
    "dataDiv = tf.divide(data1,data2)\n",
    "\n",
    "# 使用sess创建。with不需要close\n",
    "with tf.Session() as sess:\n",
    "    print(sess.run(dataAdd))\n",
    "    print(sess.run(dataMul))\n",
    "    print(sess.run(dataSub))\n",
    "    print(sess.run(dataDiv))\n",
    "print('end!')"
   ]
  },
  {
   "cell_type": "markdown",
   "metadata": {},
   "source": [
    "### 常量与变量间的四则运算"
   ]
  },
  {
   "cell_type": "code",
   "execution_count": 2,
   "metadata": {
    "collapsed": false
   },
   "outputs": [
    {
     "name": "stdout",
     "output_type": "stream",
     "text": [
      "8\n",
      "12\n",
      "4\n",
      "3.0\n",
      "sess.run(dataCopy) 8\n",
      "dataCopy.eval() 14\n",
      "tf.get_default_session() 20\n",
      "end!\n"
     ]
    }
   ],
   "source": [
    "import tensorflow as tf\n",
    "data1 = tf.constant(6)\n",
    "# data2变量\n",
    "data2 = tf.Variable(2)\n",
    "dataAdd = tf.add(data1,data2)\n",
    "\n",
    "# 完成当前的数据拷贝: 把当前dataAdd的结果追加到data2中\n",
    "dataCopy = tf.assign(data2,dataAdd)# dataAdd ->data2\n",
    "\n",
    "dataMul = tf.multiply(data1,data2)\n",
    "dataSub = tf.subtract(data1,data2)\n",
    "dataDiv = tf.divide(data1,data2)\n",
    "init = tf.global_variables_initializer()\n",
    "with tf.Session() as sess:\n",
    "    sess.run(init)\n",
    "    print(sess.run(dataAdd))\n",
    "    print(sess.run(dataMul))\n",
    "    print(sess.run(dataSub))\n",
    "    print(sess.run(dataDiv))\n",
    "    \n",
    "    # 将6和2相加的结果放到data2中\n",
    "    print('sess.run(dataCopy)',sess.run(dataCopy))#8->data2\n",
    "    \n",
    "    # 除过run方法还可以使用.eval()直接输出。eval方法相当于下面这句话\n",
    "    print('dataCopy.eval()',dataCopy.eval())#8+6->14->data2 = 14\n",
    "    \n",
    "    # 获取默认的session，执行run操作\n",
    "    print('tf.get_default_session()',tf.get_default_session().run(dataCopy))\n",
    "print('end!')"
   ]
  }
 ],
 "metadata": {
  "kernelspec": {
   "display_name": "Python [Root]",
   "language": "python",
   "name": "Python [Root]"
  },
  "language_info": {
   "codemirror_mode": {
    "name": "ipython",
    "version": 3
   },
   "file_extension": ".py",
   "mimetype": "text/x-python",
   "name": "python",
   "nbconvert_exporter": "python",
   "pygments_lexer": "ipython3",
   "version": "3.5.1"
  }
 },
 "nbformat": 4,
 "nbformat_minor": 2
}
