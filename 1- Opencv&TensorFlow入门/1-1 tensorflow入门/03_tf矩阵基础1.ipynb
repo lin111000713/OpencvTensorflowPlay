{
 "cells": [
  {
   "cell_type": "markdown",
   "metadata": {},
   "source": [
    "### placeholder"
   ]
  },
  {
   "cell_type": "code",
   "execution_count": 1,
   "metadata": {
    "collapsed": false
   },
   "outputs": [
    {
     "name": "stdout",
     "output_type": "stream",
     "text": [
      "8.0\n",
      "end!\n"
     ]
    }
   ],
   "source": [
    "import tensorflow as tf\n",
    "data1 = tf.placeholder(tf.float32)\n",
    "data2 = tf.placeholder(tf.float32)\n",
    "dataAdd = tf.add(data1,data2)\n",
    "with tf.Session() as sess:\n",
    "    # 使用feed_dict为placeholder回填数据\n",
    "    print(sess.run(dataAdd,feed_dict={data1:6,data2:2}))\n",
    "    # 1：op dataAdd 2： data (feed_dict = {参数1:6,参数2:2})\n",
    "print('end!')"
   ]
  },
  {
   "cell_type": "markdown",
   "metadata": {},
   "source": [
    "### 矩阵运算\n",
    "\n",
    "- 类比 数组 M行N列(二维数组) \n",
    "- 外层[] 内层嵌套[]  \n",
    "- 每个内层中括号表示:[里面 列数据]   \n",
    "- 每个内层[]整体作为一行 行数\n"
   ]
  },
  {
   "cell_type": "code",
   "execution_count": 2,
   "metadata": {
    "collapsed": false
   },
   "outputs": [
    {
     "name": "stdout",
     "output_type": "stream",
     "text": [
      "(3, 2)\n",
      "[[1 2]\n",
      " [3 4]\n",
      " [5 6]]\n",
      "[1 2]\n",
      "[1 3 5]\n",
      "2\n"
     ]
    }
   ],
   "source": [
    "# [[6,6]] 一行两列的矩阵\n",
    "import tensorflow as tf\n",
    "# 一行两列矩阵\n",
    "data1 = tf.constant([[6,6]])\n",
    "# 两行一列矩阵\n",
    "data2 = tf.constant([[2],\n",
    "                     [2]])\n",
    "# 一行两列\n",
    "data3 = tf.constant([[3,3]])\n",
    "# 三行两列\n",
    "data4 = tf.constant([[1,2],\n",
    "                     [3,4],\n",
    "                     [5,6]])\n",
    "\n",
    "print(data4.shape)# 打印矩阵的维度\n",
    "\n",
    "with tf.Session() as sess:\n",
    "    print(sess.run(data4)) # 打印整体\n",
    "    print(sess.run(data4[0]))# 打印某一行\n",
    "    print(sess.run(data4[:,0]))# M*N的矩阵，第一位是行，第二位是列。\n",
    "    # 打印某一列，使用:表示所有行\n",
    "    \n",
    "    print(sess.run(data4[0,1]))# 1 1  下标从0开始算。但是shape是从1开始算的"
   ]
  }
 ],
 "metadata": {
  "kernelspec": {
   "display_name": "Python [Root]",
   "language": "python",
   "name": "Python [Root]"
  },
  "language_info": {
   "codemirror_mode": {
    "name": "ipython",
    "version": 3
   },
   "file_extension": ".py",
   "mimetype": "text/x-python",
   "name": "python",
   "nbconvert_exporter": "python",
   "pygments_lexer": "ipython3",
   "version": "3.5.1"
  }
 },
 "nbformat": 4,
 "nbformat_minor": 2
}
