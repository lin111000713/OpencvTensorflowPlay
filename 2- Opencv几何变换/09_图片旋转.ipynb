{
 "cells": [
  {
   "cell_type": "code",
   "execution_count": 1,
   "metadata": {
    "collapsed": false
   },
   "outputs": [
    {
     "data": {
      "text/plain": [
       "255"
      ]
     },
     "execution_count": 1,
     "metadata": {},
     "output_type": "execute_result"
    }
   ],
   "source": [
    "import cv2\n",
    "import numpy as np\n",
    "# 图片载入\n",
    "img = cv2.imread('image0.jpg',1)\n",
    "# 展示\n",
    "cv2.imshow('src',img)\n",
    "# 图片信息获取\n",
    "imgInfo = img.shape\n",
    "height = imgInfo[0]\n",
    "width = imgInfo[1]\n",
    "\n",
    "# 定义一个旋转矩阵 2*3 \n",
    "# getRotationMatrix2D 获取旋转矩阵\n",
    "matRotate = cv2.getRotationMatrix2D((height*0.5,width*0.5),45,0.5)\n",
    "# mat rotate 参数1 旋转center点 2 旋转的angle(角度) 3 scale(缩放系数)\n",
    "\n",
    "# 为什么一个矩阵旋转的列子，要进行缩放0.5设置让它不超出边界\n",
    "\n",
    "# 100*100 25 四个角会超出。\n",
    "dst = cv2.warpAffine(img,matRotate,(height,width))\n",
    "cv2.imshow('dst',dst)\n",
    "cv2.waitKey(0)"
   ]
  }
 ],
 "metadata": {
  "anaconda-cloud": {},
  "kernelspec": {
   "display_name": "Python [Root]",
   "language": "python",
   "name": "Python [Root]"
  },
  "language_info": {
   "codemirror_mode": {
    "name": "ipython",
    "version": 3
   },
   "file_extension": ".py",
   "mimetype": "text/x-python",
   "name": "python",
   "nbconvert_exporter": "python",
   "pygments_lexer": "ipython3",
   "version": "3.5.1"
  }
 },
 "nbformat": 4,
 "nbformat_minor": 2
}
