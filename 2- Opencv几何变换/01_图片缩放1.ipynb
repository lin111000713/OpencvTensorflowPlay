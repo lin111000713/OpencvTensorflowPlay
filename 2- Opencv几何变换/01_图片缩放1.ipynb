{
 "cells": [
  {
   "cell_type": "markdown",
   "metadata": {},
   "source": [
    "改变图片尺寸的步骤:\n",
    "\n",
    "1. 加载图片\n",
    "2. 获取图片信息\n",
    "3. 调用resize\n",
    "4. 检查最终结果"
   ]
  },
  {
   "cell_type": "code",
   "execution_count": 1,
   "metadata": {
    "collapsed": false
   },
   "outputs": [
    {
     "name": "stdout",
     "output_type": "stream",
     "text": [
      "(547, 730, 3)\n"
     ]
    },
    {
     "data": {
      "text/plain": [
       "255"
      ]
     },
     "execution_count": 1,
     "metadata": {},
     "output_type": "execute_result"
    }
   ],
   "source": [
    "import cv2\n",
    "img = cv2.imread('image0.jpg',1)\n",
    "imgInfo = img.shape\n",
    "print(imgInfo)\n",
    "\n",
    "# 图片的高度，宽度，颜色组成方式3指一个像素点由三个颜色通道组成\n",
    "height = imgInfo[0]\n",
    "width = imgInfo[1]\n",
    "mode = imgInfo[2]\n",
    "\n",
    "# 1 放大 缩小\n",
    "# 2 等比例 非 原来图片2:3 更改之后还是2:3 \n",
    "dstHeight = int(height*0.5)\n",
    "dstWidth = int(width*0.5)\n",
    "# 原始图片的宽高乘以一个共同的系数，等比例缩放。\n",
    "# 原始图片的宽高乘以一个不同的系数，非等比例缩放。\n",
    "\n",
    "# opencv提供了四种方式: 最近临域插值 双线性插值 像素关系重采样 立方插值\n",
    "# 默认使用第二种: 双线性插值\n",
    "\n",
    "# 第一个参数:我们要缩放的图片 第二个参数: 要缩放成的目标图片大小\n",
    "dst = cv2.resize(img,(dstWidth,dstHeight))\n",
    "cv2.imshow('image',dst)\n",
    "cv2.waitKey(0)"
   ]
  },
  {
   "cell_type": "markdown",
   "metadata": {},
   "source": [
    "### 最近临域插值 双线性插值 原理\n",
    "\n",
    "原始src `10*20` 目标dst `5*10`\n",
    "\n",
    "目标图像上的每个点都是来自原图像的。\n",
    "\n",
    "dst<<<src\n",
    ">目标图像的(1,2) 对应 原图像的(2,4)\n",
    "\n",
    "已知目标图片dst的x值1 对应 原始图片src x值2 newX\n",
    "\n",
    "```\n",
    "newX = x*(src 行/目标 行)[即缩放比例] newX = 1*（10/5） = 2\n",
    "newY = y*(src 列/目标 列)[即缩放比例] newY = 2*（20/10）= 4\n",
    "12.3 = 12\n",
    "\n",
    "```\n",
    "\n",
    ">对于一个非整数的像素坐标，我们取最近的点，就叫最近邻域差值法\n",
    "\n",
    "### 双线性插值\n",
    "\n",
    "![mark](http://myphoto.mtianyan.cn/blog/180326/i8723JhF34.png?imageslim)\n",
    "\n",
    "四个角分别表示当前像素点的坐标。目标dst的大小(5,10)\n",
    "\n",
    "使用目标插值法得到的原图像点未(15.2,22.3)实际上我们的原图像上是不存在这个点的，如何用周围的四个点表示这个点。\n",
    "\n",
    ">最近邻域插值是取最近的点，而双线性是通过穿过的四个点来合成该点。\n",
    "\n",
    "![mark](http://myphoto.mtianyan.cn/blog/180326/gicImld428.png?imageslim)\n",
    "\n",
    "水平方向上穿过A1A2，竖直方向上穿过B1B2\n",
    "\n",
    "计算出A1，A2，B1，B2.通过这四个点进行合成。\n",
    "\n",
    "x轴表明的是我们图片的列，y轴表明的是我们图片的行\n",
    "\n",
    "A1的横坐标15.2，表明它距离上面点20%，距离下面点80%\n",
    "\n",
    "- A1 = 20% 上+80%下 A2\n",
    "- B1 = 30% 左+70%右 B2\n",
    "\n",
    ">方法1 最终点  = A1 30% + A2 70%\n",
    ">方法2 最终点  = B1 20% + B2 80%\n",
    "\n",
    "实质：矩阵运算 "
   ]
  }
 ],
 "metadata": {
  "kernelspec": {
   "display_name": "Python [Root]",
   "language": "python",
   "name": "Python [Root]"
  },
  "language_info": {
   "codemirror_mode": {
    "name": "ipython",
    "version": 3
   },
   "file_extension": ".py",
   "mimetype": "text/x-python",
   "name": "python",
   "nbconvert_exporter": "python",
   "pygments_lexer": "ipython3",
   "version": "3.5.1"
  }
 },
 "nbformat": 4,
 "nbformat_minor": 2
}
