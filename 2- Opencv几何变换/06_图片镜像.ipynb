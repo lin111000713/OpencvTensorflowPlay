{
 "cells": [
  {
   "cell_type": "code",
   "execution_count": 1,
   "metadata": {
    "collapsed": false
   },
   "outputs": [
    {
     "data": {
      "text/plain": [
       "255"
      ]
     },
     "execution_count": 1,
     "metadata": {},
     "output_type": "execute_result"
    }
   ],
   "source": [
    "import cv2\n",
    "import numpy as np\n",
    "img = cv2.imread('image0.jpg',1)\n",
    "cv2.imshow('src',img)\n",
    "imgInfo = img.shape\n",
    "# 旧图片的info信息\n",
    "height = imgInfo[0]\n",
    "width = imgInfo[1]\n",
    "deep = imgInfo[2]\n",
    "\n",
    "# 新图片的info信息\n",
    "newImgInfo = (height*2,width,deep)\n",
    "# 创建空白模板\n",
    "dst = np.zeros(newImgInfo,np.uint8)# uint8\n",
    "\n",
    "for i in range(0,height):\n",
    "    for j in range(0,width):\n",
    "        # 绘制上半部分\n",
    "        dst[i,j] = img[i,j]\n",
    "        # 下半部分: x值不变, y值变为 = 2*h - y -1\n",
    "        dst[height*2-i-1,j] = img[i,j]\n",
    "# 添加分割线\n",
    "for i in range(0,width):\n",
    "    dst[height,i] = (0,0,255)# BGR\n",
    "cv2.imshow('dst',dst)\n",
    "cv2.waitKey(0)"
   ]
  }
 ],
 "metadata": {
  "anaconda-cloud": {},
  "kernelspec": {
   "display_name": "Python [Root]",
   "language": "python",
   "name": "Python [Root]"
  },
  "language_info": {
   "codemirror_mode": {
    "name": "ipython",
    "version": 3
   },
   "file_extension": ".py",
   "mimetype": "text/x-python",
   "name": "python",
   "nbconvert_exporter": "python",
   "pygments_lexer": "ipython3",
   "version": "3.5.1"
  }
 },
 "nbformat": 4,
 "nbformat_minor": 2
}
