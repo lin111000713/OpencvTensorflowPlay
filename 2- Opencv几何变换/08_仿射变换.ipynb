{
 "cells": [
  {
   "cell_type": "code",
   "execution_count": 1,
   "metadata": {
    "collapsed": false
   },
   "outputs": [
    {
     "data": {
      "text/plain": [
       "255"
      ]
     },
     "execution_count": 1,
     "metadata": {},
     "output_type": "execute_result"
    }
   ],
   "source": [
    "import cv2\n",
    "import numpy as np\n",
    "img = cv2.imread('image0.jpg',1)\n",
    "cv2.imshow('src',img)\n",
    "imgInfo = img.shape\n",
    "height = imgInfo[0]\n",
    "width = imgInfo[1]\n",
    "\n",
    "# src 3->dst 3  原图上(左上角 左下角 右上角) 转换到新图片上三个点\n",
    "# 原图三个点\n",
    "matSrc = np.float32([[0,0],[0,height-1],[width-1,0]])\n",
    "# 新图上的位置\n",
    "matDst = np.float32([[50,50],[300,height-200],[width-300,100]])\n",
    "# 组合: 定义一个仿射变换矩阵。\n",
    "# getAffineTransform获得仿射变换矩阵。参数一:原图的点，参数二: 新图片的点\n",
    "matAffine = cv2.getAffineTransform(matSrc,matDst) # mat 1 src 2 dst\n",
    "\n",
    "# 使用仿射变换 第一个参数: 图片信息 第二个: 仿射变换矩阵 第三个：宽高信息\n",
    "dst = cv2.warpAffine(img,matAffine,(width,height))\n",
    "cv2.imshow('dst',dst)\n",
    "cv2.waitKey(0)"
   ]
  }
 ],
 "metadata": {
  "anaconda-cloud": {},
  "kernelspec": {
   "display_name": "Python [Root]",
   "language": "python",
   "name": "Python [Root]"
  },
  "language_info": {
   "codemirror_mode": {
    "name": "ipython",
    "version": 3
   },
   "file_extension": ".py",
   "mimetype": "text/x-python",
   "name": "python",
   "nbconvert_exporter": "python",
   "pygments_lexer": "ipython3",
   "version": "3.5.1"
  }
 },
 "nbformat": 4,
 "nbformat_minor": 2
}
