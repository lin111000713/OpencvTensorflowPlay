{
 "cells": [
  {
   "cell_type": "markdown",
   "metadata": {},
   "source": [
    "定义一个两行三列的矩阵`[[A1 A2 B1],[A3 A4 B2]]`\n",
    "\n",
    "拆分矩阵: 拆分成两个(2,2)和一个(2,1)矩阵\n",
    "\n",
    "`[[A1 A2],[A3 A4]]  [[B1],[B2]]`\n",
    "\n",
    "计算新的x和y值:\n",
    "\n",
    "- `newX = A1*x + A2*y+ B1`\n",
    "- `newY = A3*x + A4*y+ B2`\n",
    "\n",
    "\n",
    "实现缩放功能\n",
    "- `x->x*0.5 y->y*0.5`\n",
    "\n",
    "将矩阵中的A1 A4设置为0.5, B1,B2设置为0 就等价于缩放xy 0.5\n",
    "\n",
    "- `newX = 0.5*x`\n",
    "- `newY = 0.5*x`"
   ]
  },
  {
   "cell_type": "code",
   "execution_count": 1,
   "metadata": {
    "collapsed": false
   },
   "outputs": [
    {
     "data": {
      "text/plain": [
       "255"
      ]
     },
     "execution_count": 1,
     "metadata": {},
     "output_type": "execute_result"
    }
   ],
   "source": [
    "import cv2\n",
    "import numpy as np\n",
    "img = cv2.imread('image0.jpg',1)\n",
    "cv2.imshow('src',img)\n",
    "imgInfo = img.shape\n",
    "height = imgInfo[0]\n",
    "width = imgInfo[1]\n",
    "\n",
    "# 缩放矩阵（2,3）\n",
    "matScale = np.float32([[0.5,0,0],[0,0.5,0]])\n",
    "\n",
    "# 仿射方法 原始数据，缩放矩阵，最终生成图片的宽高信息\n",
    "dst = cv2.warpAffine(img,matScale,(int(width/2),int(height/2)))\n",
    "\n",
    "cv2.imshow('dst',dst)\n",
    "cv2.waitKey(0)"
   ]
  }
 ],
 "metadata": {
  "kernelspec": {
   "display_name": "Python [Root]",
   "language": "python",
   "name": "Python [Root]"
  },
  "language_info": {
   "codemirror_mode": {
    "name": "ipython",
    "version": 3
   },
   "file_extension": ".py",
   "mimetype": "text/x-python",
   "name": "python",
   "nbconvert_exporter": "python",
   "pygments_lexer": "ipython3",
   "version": "3.5.1"
  }
 },
 "nbformat": 4,
 "nbformat_minor": 2
}
