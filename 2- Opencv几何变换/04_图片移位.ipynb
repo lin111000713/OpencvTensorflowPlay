{
 "cells": [
  {
   "cell_type": "markdown",
   "metadata": {},
   "source": [
    "1. opencvAPI实现 \n",
    "2. 算法原理\n",
    "3. 源代码实现"
   ]
  },
  {
   "cell_type": "code",
   "execution_count": 1,
   "metadata": {
    "collapsed": false
   },
   "outputs": [
    {
     "data": {
      "text/plain": [
       "255"
      ]
     },
     "execution_count": 1,
     "metadata": {},
     "output_type": "execute_result"
    }
   ],
   "source": [
    "import cv2\n",
    "import numpy as np\n",
    "\n",
    "# 读图\n",
    "img = cv2.imread('image0.jpg',1)\n",
    "# 展示图\n",
    "cv2.imshow('src',img)\n",
    "\n",
    "# 获取图片信息\n",
    "imgInfo = img.shape\n",
    "height = imgInfo[0]\n",
    "width = imgInfo[1]\n",
    "\n",
    "# 设置一个偏移矩阵 两行三列数据\n",
    "matShift = np.float32([[1,0,100],[0,1,200]])# 2*3\n",
    "# 目标图片warpAffine，完成矩阵的映射。\n",
    "# 参数1: 原图片 参数2: 移位矩阵 参数3: 当前图片的高宽\n",
    "dst = cv2.warpAffine(img,matShift,(height,width)) # 1 data 2 matshift 3 info\n",
    "# 移位 矩阵运算\n",
    "\n",
    "cv2.imshow('dst',dst)\n",
    "cv2.waitKey(0)"
   ]
  },
  {
   "cell_type": "markdown",
   "metadata": {},
   "source": [
    "偏移矩阵\n",
    "\n",
    "```\n",
    "[1,0,100],[0,1,200]  拆分为两个矩阵 2行*2列 2行*1列\n",
    "\n",
    "[[1,0],[0,1]]  2*2   A(矩阵的前两个元素)\n",
    "[[100],[200]]  2*1   B(矩阵的第三个元素)\n",
    "```\n",
    "\n",
    "完成矩阵的运算\n",
    "\n",
    "输入的xy定义为C\n",
    "\n",
    "```\n",
    "计算公式: A*C+B = [[1*x+0*y],[0*x+1*y]]+[[100],[200]]\n",
    "= [[x+100],[y+200]]\n",
    "\n",
    "效果为: 沿着x轴向右了100，沿着y轴向下了200\n",
    "\n",
    "A（2,2） 乘以 C(2,1) 会变成一个(2,1) 然后(2,1)加(2,1)还是(2,1)\n",
    "\n",
    ">得到新的x,y.描述当前移位之后的矩阵\n",
    "```\n",
    "\n",
    "结果: (10,20)->(110,220)\n",
    "\n",
    "对于矩阵来讲，想当于每个x加上100，y加上200"
   ]
  }
 ],
 "metadata": {
  "anaconda-cloud": {},
  "kernelspec": {
   "display_name": "Python [Root]",
   "language": "python",
   "name": "Python [Root]"
  },
  "language_info": {
   "codemirror_mode": {
    "name": "ipython",
    "version": 3
   },
   "file_extension": ".py",
   "mimetype": "text/x-python",
   "name": "python",
   "nbconvert_exporter": "python",
   "pygments_lexer": "ipython3",
   "version": "3.5.1"
  }
 },
 "nbformat": 4,
 "nbformat_minor": 2
}
