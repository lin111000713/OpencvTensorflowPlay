{
 "cells": [
  {
   "cell_type": "markdown",
   "metadata": {},
   "source": [
    "1. 获取图片info(高,宽,颜色组成方式) \n",
    "2. 新建空白模版\n",
    "3. 重新计算xy坐标"
   ]
  },
  {
   "cell_type": "code",
   "execution_count": 1,
   "metadata": {
    "collapsed": false
   },
   "outputs": [
    {
     "data": {
      "text/plain": [
       "255"
      ]
     },
     "execution_count": 1,
     "metadata": {},
     "output_type": "execute_result"
    }
   ],
   "source": [
    "import cv2\n",
    "import numpy as np\n",
    "# 图片名称，彩色图片\n",
    "img = cv2.imread('image0.jpg',1)\n",
    "\n",
    "imgInfo = img.shape\n",
    "height = imgInfo[0]\n",
    "width = imgInfo[1]\n",
    "\n",
    "# 目标图片高度宽度\n",
    "dstHeight = int(height/2)\n",
    "dstWidth = int(width/2)\n",
    "\n",
    "# 创建一个空白模板。第一个参数(高，宽，颜色组成) 第二个参数 数据类型: uint8是0-255\n",
    "dstImage = np.zeros((dstHeight,dstWidth,3),np.uint8) # 0-255\n",
    "\n",
    "# 计算目标图片坐标\n",
    "for i in range(0,dstHeight): # 行\n",
    "    for j in range(0,dstWidth): # 列\n",
    "        # 乘1.0转换为浮点型\n",
    "        iNew = int(i*(height*1.0/dstHeight))\n",
    "        jNew = int(j*(width*1.0/dstWidth))\n",
    "        dstImage[i,j] = img[iNew,jNew]\n",
    "cv2.imshow('dst',dstImage)\n",
    "cv2.waitKey(0)\n",
    "# 三个角度: 1. opencv API resize 2.算法原理 3.源码 "
   ]
  }
 ],
 "metadata": {
  "kernelspec": {
   "display_name": "Python [Root]",
   "language": "python",
   "name": "Python [Root]"
  },
  "language_info": {
   "codemirror_mode": {
    "name": "ipython",
    "version": 3
   },
   "file_extension": ".py",
   "mimetype": "text/x-python",
   "name": "python",
   "nbconvert_exporter": "python",
   "pygments_lexer": "ipython3",
   "version": "3.5.1"
  }
 },
 "nbformat": 4,
 "nbformat_minor": 2
}
