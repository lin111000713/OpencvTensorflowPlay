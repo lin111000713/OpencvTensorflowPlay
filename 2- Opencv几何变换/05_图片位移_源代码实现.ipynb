{
 "cells": [
  {
   "cell_type": "code",
   "execution_count": 2,
   "metadata": {
    "collapsed": false
   },
   "outputs": [
    {
     "data": {
      "text/plain": [
       "255"
      ]
     },
     "execution_count": 2,
     "metadata": {},
     "output_type": "execute_result"
    }
   ],
   "source": [
    "import cv2\n",
    "import numpy as np\n",
    "# 读图\n",
    "img = cv2.imread('image0.jpg',1)\n",
    "# 展示图\n",
    "cv2.imshow('src',img)\n",
    "# 获取图片信息\n",
    "imgInfo = img.shape\n",
    "# 定义一个空模板，大小和原始图片一模一样大\n",
    "dst = np.zeros(img.shape,np.uint8)\n",
    "\n",
    "height = imgInfo[0]\n",
    "width = imgInfo[1]\n",
    "\n",
    "for i in range(0,height):\n",
    "    # 右移100像素\n",
    "    for j in range(0,width-100):\n",
    "        # 目标图像i值不变，j值来自原图像加100\n",
    "        dst[i,j+100]=img[i,j]\n",
    "cv2.imshow('dst',dst)\n",
    "cv2.waitKey(0)"
   ]
  }
 ],
 "metadata": {
  "anaconda-cloud": {},
  "kernelspec": {
   "display_name": "Python [Root]",
   "language": "python",
   "name": "Python [Root]"
  },
  "language_info": {
   "codemirror_mode": {
    "name": "ipython",
    "version": 3
   },
   "file_extension": ".py",
   "mimetype": "text/x-python",
   "name": "python",
   "nbconvert_exporter": "python",
   "pygments_lexer": "ipython3",
   "version": "3.5.1"
  }
 },
 "nbformat": 4,
 "nbformat_minor": 2
}
