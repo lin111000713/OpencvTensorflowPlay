{
 "cells": [
  {
   "cell_type": "code",
   "execution_count": 2,
   "metadata": {
    "collapsed": false
   },
   "outputs": [
    {
     "name": "stdout",
     "output_type": "stream",
     "text": [
      "<built-in method isOpened of cv2.VideoCapture object at 0x0000015CEED21350>\n",
      "29.008016032064127 540 960\n",
      "image1.jpg\n",
      "image2.jpg\n",
      "image3.jpg\n",
      "image4.jpg\n",
      "image5.jpg\n",
      "image6.jpg\n",
      "image7.jpg\n",
      "image8.jpg\n",
      "image9.jpg\n",
      "image10.jpg\n",
      "end!\n"
     ]
    }
   ],
   "source": [
    "# 视频分解图片\n",
    "# 1 load 2 info 3 parse 4 imshow imwrite\n",
    "import cv2\n",
    "# 可以通过摄像头，也可以通过本地文件\n",
    "cap = cv2.VideoCapture(\"1.mp4\") # 获取一个视频打开cap 参数1 file name(可选路径)\n",
    "isOpened = cap.isOpened # 判断是否打开\n",
    "print(isOpened)\n",
    "fps = cap.get(cv2.CAP_PROP_FPS) # 帧率(每秒多少张图片)\n",
    "width = int(cap.get(cv2.CAP_PROP_FRAME_WIDTH))# w h\n",
    "height = int(cap.get(cv2.CAP_PROP_FRAME_HEIGHT)) # 高度信息\n",
    "print(fps,width,height)\n",
    "# i记录保存了多少张\n",
    "i = 0\n",
    "while(isOpened):\n",
    "    # 读取十张照片\n",
    "    if i == 10:\n",
    "        break\n",
    "    else:\n",
    "        i = i+1\n",
    "    (flag,frame) = cap.read()# 读取每一张(帧) 返回: flag(是否成功) frame(图片内容) \n",
    "    fileName = 'image'+str(i)+'.jpg'\n",
    "    print(fileName)\n",
    "    # 如果读取成功了，保存图片\n",
    "    if flag == True:\n",
    "        # 质量控制: 100表明质量最高。\n",
    "        cv2.imwrite(fileName,frame,[cv2.IMWRITE_JPEG_QUALITY,100])\n",
    "print('end!')\n",
    "\n",
    "# 人脸识别的连续帧数为15帧"
   ]
  }
 ],
 "metadata": {
  "anaconda-cloud": {},
  "kernelspec": {
   "display_name": "Python [Root]",
   "language": "python",
   "name": "Python [Root]"
  },
  "language_info": {
   "codemirror_mode": {
    "name": "ipython",
    "version": 3
   },
   "file_extension": ".py",
   "mimetype": "text/x-python",
   "name": "python",
   "nbconvert_exporter": "python",
   "pygments_lexer": "ipython3",
   "version": "3.5.1"
  }
 },
 "nbformat": 4,
 "nbformat_minor": 2
}
