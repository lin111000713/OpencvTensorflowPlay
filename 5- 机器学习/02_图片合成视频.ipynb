{
 "cells": [
  {
   "cell_type": "code",
   "execution_count": 11,
   "metadata": {
    "collapsed": false
   },
   "outputs": [
    {
     "name": "stdout",
     "output_type": "stream",
     "text": [
      "(540, 960)\n",
      "end!\n"
     ]
    }
   ],
   "source": [
    "import cv2\n",
    "img = cv2.imread('image1.jpg')\n",
    "imgInfo = img.shape\n",
    "# 宽度和高度信息\n",
    "size = (imgInfo[1],imgInfo[0])\n",
    "print(size)\n",
    "\n",
    "# VideoWriter 参数1: 写入对象 参数\n",
    "# fourcc 根据系统的不同: \n",
    "# http://opencv-python-tutroals.readthedocs.io/en/latest/py_tutorials/py_gui/py_video_display/py_video_display.html?highlight=videowriter\n",
    "fourcc = cv2.VideoWriter_fourcc(*'DIVX')\n",
    "videoWrite = cv2.VideoWriter('pic2video.mp4',fourcc,5,size)\n",
    "# 写入对象 1 file name\n",
    "# 2 可用编码器 3 帧率 4 size\n",
    "for i in range(1,11):\n",
    "    fileName = 'image'+str(i)+'.jpg'\n",
    "    img = cv2.imread(fileName)\n",
    "    videoWrite.write(img) # 写入方法 1 jpg data\n",
    "print('end!')"
   ]
  }
 ],
 "metadata": {
  "anaconda-cloud": {},
  "kernelspec": {
   "display_name": "Python [Root]",
   "language": "python",
   "name": "Python [Root]"
  },
  "language_info": {
   "codemirror_mode": {
    "name": "ipython",
    "version": 3
   },
   "file_extension": ".py",
   "mimetype": "text/x-python",
   "name": "python",
   "nbconvert_exporter": "python",
   "pygments_lexer": "ipython3",
   "version": "3.5.1"
  }
 },
 "nbformat": 4,
 "nbformat_minor": 2
}
