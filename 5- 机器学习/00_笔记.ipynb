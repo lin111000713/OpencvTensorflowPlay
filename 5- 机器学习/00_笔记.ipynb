{
 "cells": [
  {
   "cell_type": "markdown",
   "metadata": {},
   "source": [
    "1 样本 2 特征 3 分类器 4 预测 检验\n",
    " haar+adaboost -》face\n",
    " haar 模版 adaboost 三级 （强分类器 弱分类器 node）\n",
    " hog 模版 svm 小狮子识别\n",
    "\n",
    ">haar特征 + Adaboost 实现人脸识别\n",
    "\n",
    "haar 由一系列模板组成，adboost分类器分为三级(强分类器，弱分类器，node节点)\n",
    "\n",
    "Hog特征 + svm小狮子识别\n",
    "\n",
    "![mark](http://myphoto.mtianyan.cn/blog/180327/884cB0flBj.png?imageslim)\n",
    "\n",
    "### Hog特征计算\n",
    "\n",
    "![mark](http://myphoto.mtianyan.cn/blog/180327/5GgKH4HC6G.png?imageslim)\n",
    "\n",
    "一系列的窗体: 蓝色矩形框，红色block模块，绿色的cell模块。\n",
    "\n",
    "我们要计算cell模块中每一个像素的梯度。我们还要计算它的浮值和方向。\n",
    "根据浮值与方向进行直方图的统计最后得到hog特征。\n",
    "\n",
    "hog在进行梯度计算的时候同样有一个模板，加上SVM，实现小狮子识别\n",
    "\n",
    "最后预测或检验特征是否有效。"
   ]
  }
 ],
 "metadata": {
  "anaconda-cloud": {},
  "kernelspec": {
   "display_name": "Python [Root]",
   "language": "python",
   "name": "Python [Root]"
  },
  "language_info": {
   "codemirror_mode": {
    "name": "ipython",
    "version": 3
   },
   "file_extension": ".py",
   "mimetype": "text/x-python",
   "name": "python",
   "nbconvert_exporter": "python",
   "pygments_lexer": "ipython3",
   "version": "3.5.1"
  }
 },
 "nbformat": 4,
 "nbformat_minor": 2
}
