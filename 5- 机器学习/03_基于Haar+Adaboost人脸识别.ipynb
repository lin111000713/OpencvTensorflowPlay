{
 "cells": [
  {
   "cell_type": "code",
   "execution_count": 8,
   "metadata": {
    "collapsed": false
   },
   "outputs": [
    {
     "name": "stdout",
     "output_type": "stream",
     "text": [
      "face= 2\n",
      "eye= 2\n",
      "eye= 2\n"
     ]
    },
    {
     "data": {
      "text/plain": [
       "255"
      ]
     },
     "execution_count": 8,
     "metadata": {},
     "output_type": "execute_result"
    }
   ],
   "source": [
    "# 1 load xml 2 load jpg 3 haar gray 4 (检测)detect 5 draw(绘制方框)\n",
    "import cv2\n",
    "import numpy as np\n",
    "\n",
    "# 加载load xml 参数1 file name\n",
    "face_xml = cv2.CascadeClassifier('haarcascade_frontalface_default.xml')\n",
    "eye_xml = cv2.CascadeClassifier('haarcascade_eye.xml')\n",
    "\n",
    "# load jpg\n",
    "img = cv2.imread('gr.jpg')\n",
    "cv2.imshow('src',img)\n",
    "\n",
    "# haar gray\n",
    "gray = cv2.cvtColor(img,cv2.COLOR_BGR2GRAY)\n",
    "\n",
    "# detect faces 1 data 2 scale 3 5\n",
    "# 检测人脸: 1 灰度图片数据 2 缩放系数 3 目标大小\n",
    "faces = face_xml.detectMultiScale(gray,1.3,5)\n",
    "# 人脸个数\n",
    "print('face=',len(faces))\n",
    "\n",
    "# draw方框\n",
    "for (x,y,w,h) in faces:\n",
    "    # 起始坐标。起始坐标。\n",
    "    cv2.rectangle(img,(x,y),(x+w,y+h),(255,0,0),2)\n",
    "    # 我们已经找到的人脸区域\n",
    "    roi_face = gray[y:y+h,x:x+w]\n",
    "    roi_color = img[y:y+h,x:x+w]\n",
    "    # 参数1 gray\n",
    "    eyes = eye_xml.detectMultiScale(roi_face)\n",
    "    print('eye=',len(eyes))\n",
    "    for (e_x,e_y,e_w,e_h) in eyes:\n",
    "        cv2.rectangle(roi_color,(e_x,e_y),(e_x+e_w,e_y+e_h),(0,255,0),2)\n",
    "cv2.imshow('dst',img)\n",
    "cv2.waitKey(0)\n"
   ]
  },
  {
   "cell_type": "markdown",
   "metadata": {
    "collapsed": true
   },
   "source": [
    "### haar特征:\n",
    "1. 什么是haar？\n",
    "\n",
    ">特征 = 像素 运算 -> 结果(具体值 向量 矩阵 多维)\n",
    "\n",
    "\n",
    "2. 如何利用特征 区分目标？ \n",
    "\n",
    ">阈值判决 \n",
    "\n",
    "3. 得到判决？\n",
    "\n",
    ">机器学习 \n",
    "\n",
    "- 1 特征 2 判决 3 得到判决\n",
    "\n",
    "公式推导 权重1为1  权重2为-2\n",
    "\n",
    "```\n",
    "特征 = 整个区域*权重1 + 黑色*权重2 = （黑+白）*1+黑*（-2）=\n",
    "= 黑+白-2黑 = 白-黑\n",
    "```\n",
    "\n",
    "- haar模版 从上至下 从左至右 \n",
    "- image size 模版 size \n",
    "\n",
    "```\n",
    "100*100图片 10*10模板 100次(个模板) step = 10\n",
    "1. 100*100 2. 10*10 3. step 10 4. 模版1\n",
    "```\n",
    "\n",
    "- 模版  不仅可以滑动 还能缩放 `10*10`  第二次滑动 `11*11` 20级(20次缩放)\n",
    "\n",
    "举例 图片大小`1080*720`  步长step`2` `10*10`模板\n",
    "\n",
    "```\n",
    "计算量 = 14个模版*20级缩放*(1080/2*720/2) * (100点+ -) = 50-100亿\n",
    "(50-100)*15 = 1000亿次\n",
    "```\n",
    "\n",
    "## 积分图\n",
    "\n",
    "![mark](http://myphoto.mtianyan.cn/blog/180327/59AgGbAIfi.png?imageslim)\n",
    "\n",
    "积分图听起来有点像数据累加。特征计算时讲解了前两种公式。\n",
    "\n",
    "无论是哪种计算公式，都要求计算矩阵方框中的公式。\n",
    "\n",
    "所以基于这种思想有人提出了一种简单的算法。\n",
    "\n",
    "有ABCD四个区域，每个区域都是一个矩形方块。\n",
    "\n",
    "A区域是左上角那一块小区域，而B区域是包含A区域的长条。\n",
    "\n",
    "C区域又是包含A的竖直长条。D区域是四个方块之和。\n",
    "\n",
    "1,2,3,4表明这四个小区域。\n",
    "\n",
    "进行快速计算:\n",
    "\n",
    "```\n",
    " A 1 B 1 2 C 1 3 D 1 2 3 4\n",
    " 4 = A-B-C+D = 1+1+2+3+4-1-2-1-3 = 4(10*10 变成3次+-)\n",
    "```\n",
    "\n",
    "任意一个方框，可由周围的矩形进行相减得到。\n",
    "\n",
    "问题: 在计算每一个方块之前，需要将图片上所有的像素全部遍历一次。\n",
    "\n",
    "![mark](http://myphoto.mtianyan.cn/blog/180327/md68IdC8CC.png?imageslim)\n",
    "\n",
    "p1 p2 p3 p4 分别是指某一个特征相邻的abcd的模块指针。"
   ]
  }
 ],
 "metadata": {
  "anaconda-cloud": {},
  "kernelspec": {
   "display_name": "Python [Root]",
   "language": "python",
   "name": "Python [Root]"
  },
  "language_info": {
   "codemirror_mode": {
    "name": "ipython",
    "version": 3
   },
   "file_extension": ".py",
   "mimetype": "text/x-python",
   "name": "python",
   "nbconvert_exporter": "python",
   "pygments_lexer": "ipython3",
   "version": "3.5.1"
  }
 },
 "nbformat": 4,
 "nbformat_minor": 2
}
