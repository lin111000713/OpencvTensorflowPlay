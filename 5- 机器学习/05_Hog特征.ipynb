{
 "cells": [
  {
   "cell_type": "code",
   "execution_count": null,
   "metadata": {
    "collapsed": true
   },
   "outputs": [],
   "source": [
    "# 【3780】hog svm line训练【3780】\n",
    "#。hog*svm = 值\n",
    "# 值》T 目标obj "
   ]
  },
  {
   "cell_type": "code",
   "execution_count": null,
   "metadata": {
    "collapsed": true
   },
   "outputs": [],
   "source": [
    "#整体hog cell复用\n",
    "# 3780\n",
    "# 3780 《-win（block cell bin）\n",
    "# 1《-bin\n",
    "# cell0 cell3 bin0-bin8\n",
    "# cell0: bin0 bin1 。。。bin8\n",
    "# cell1: bin0 bin1 。。。bin8\n",
    "# cell2: bin0 bin1 。。。bin8\n",
    "# cell3: bin0 bin1 。。。bin8\n",
    "#ij cell0 bin0=《f0，\n",
    "#i+1 j cell0 bin0 = f1\n",
    "#ij。。。。\n",
    "# sumbin0（f0+f1.。）= bin0\n",
    "# 权重累加\n",
    "#ij bin0 bin1 \n",
    "\n",
    "# cell复用\n",
    "\n",
    "# block 4个cell\n",
    "# 【0】【】【】【3】\n",
    "# cell0 bin0-bin9 \n",
    "# cellx0 cellx2 cellx4\n",
    "# cellx0:ij-》bin bin+1\n",
    "# cellx2：ij -》 cell2 cell3 -》bin bin+1 bin bin+1\n",
    "# cellx4：ij\n",
    "\n",
    "# 【cell 9】【4cell】【105】 = 3780"
   ]
  },
  {
   "cell_type": "code",
   "execution_count": null,
   "metadata": {
    "collapsed": true
   },
   "outputs": [],
   "source": [
    "# bin 投影 梯度\n",
    "# bin 0-360 9bin 0-40\n",
    "# bin1 0-20 180-200\n",
    "# ij f a = 10\n",
    "# 0-20 center bin1 a=190 180 200 bin1\n",
    "# f \n",
    "# 25 bin1 bin2 \n",
    "# f1 = f*f（夹角） f2 = f*（1-f（夹角））  f（夹角）  0-1.0\n",
    "# +1 hog "
   ]
  },
  {
   "cell_type": "markdown",
   "metadata": {},
   "source": [
    "## hog计算\n",
    "\n",
    "车辆检测，可以根据windows窗体计算，判决这是车辆还是不是车辆。\n",
    "\n",
    "可以计算出一个windows窗体下有多少个block。\n",
    "\n",
    "block 下 cell 是不可滑动的。\n",
    "\n",
    "### cell bin 梯度 运算\n",
    "\n",
    "每个像素都有一个梯度: 大小(浮值) 方向\n",
    "\n",
    "当前的bin 与方向有关\n",
    "\n",
    "0-360度，以40度为一个bin进行划分，可以分出九个bin。\n",
    "\n",
    "一个bin = 40度\n",
    "\n",
    "cell和bin的关系。一个cell必须完整的包含360度的信息，多以就必须让cell包含九个bin\n",
    "\n",
    "一个cell中对应9个bin\n",
    "\n",
    "![mark](http://myphoto.mtianyan.cn/blog/180327/je88mgjB7l.png?imageslim)\n",
    "\n",
    "### hog特征的维度\n",
    "\n",
    "haar特征是一个具体的值，白-黑\n",
    "\n",
    "我们的hog特征是一个向量，就会有一个维度的问题: 必须完全描述一个obj的所有信息\n",
    "\n",
    "维度 = 每个windows窗体中有多少个block,cell个数 (105,4,9)=3780\n",
    "\n",
    "### 梯度方向大小\n",
    "\n",
    "必须以像素为单位，每个像素都有一个梯度，所有的像素共同构成hog特征\n",
    "\n",
    "windows窗体下的所有像素。\n",
    "\n",
    "运算量很大，hog的特征模板 -> haar类似\n",
    "\n",
    "它的模板分两种: 水平和竖直\n",
    "\n",
    "```\n",
    "[1,0,-1] [[1],[0],[-1]]\n",
    "水平方向上，左中右三个数分别与模板相乘\n",
    "a = p1*1+p2*0+p3*(-1) = 相邻像素之差\n",
    "b = 上下像素之差\n",
    "f = 根号下（a方+b方）\n",
    "angle = arctan（a/b）\n",
    "```"
   ]
  },
  {
   "cell_type": "code",
   "execution_count": null,
   "metadata": {
    "collapsed": true
   },
   "outputs": [],
   "source": [
    "#7 cell bin 梯度：运算\n",
    "# 每个像素-》梯度 ：大小 f 方向 angle\n",
    "# 0-360 /40 = 9块 = 9bin\n",
    "# 1bin = 40 cell-》360-〉9bin\n",
    "# hog特征维度：\n",
    "# haar 值 hog 向量 （维度）-》完全描述 一个obj info all\n",
    "# 维度 = 105*4*9=3780 "
   ]
  },
  {
   "cell_type": "markdown",
   "metadata": {},
   "source": [
    "## hog特征\n",
    "\n",
    "什么是hog特征\n",
    "\n",
    "- 什么是hog？\n",
    "\n",
    ">特征: 某个特定区域的像素进行某种特定运算得到的结果\n",
    "\n",
    "haar特征是直接经过模板计算的结果: 我们称之为haar特征。\n",
    "\n",
    "步骤:  \n",
    "\n",
    "1. 模块划分 \n",
    "2. 计算梯度和方向 模版 \n",
    "3. 使用梯度和方向进行bin投影 \n",
    "4. 计算每个模块的hog特征\n",
    "\n",
    "### 模块划分\n",
    "\n",
    "![mark](http://myphoto.mtianyan.cn/blog/180327/2gCimdc32d.png?imageslim)\n",
    "\n",
    "整个蓝色方框是我们图片的大小，我们还有一个windows窗口。窗口我们也设置为当前大小。\n",
    "\n",
    "![mark](http://myphoto.mtianyan.cn/blog/180327/IBcKHFGJLc.png?imageslim)\n",
    "\n",
    "- image（ppt蓝色区域） windows窗体（蓝色） block模块（红色） cell （绿色）\n",
    "\n",
    "每个概念都有一个size\n",
    "\n",
    "关系: image > win > block >cell\n",
    "\n",
    "滑动窗口概念\n",
    "\n",
    "block-step  win-step \n",
    "\n",
    ">cell-bin\n",
    "\n",
    "一般情况下: 窗体是特征计算的最顶层单元(一个窗口正常情况要能覆盖车的全部信息) \n",
    "必须包含一个目标obj的所有描述信息\n",
    "\n",
    "```\n",
    "1. win-size 50*100 20*50 推荐大小64*128\n",
    "2. block(红)  小于win大小  win-size 宽高是block整数倍\n",
    "当窗体大小为64*128时，通常的block为16*16\n",
    "3. block-step block会在窗体中从上到下，从左到右进行遍历。\n",
    "block每次滑动多少个像素。8*8\n",
    "\n",
    "计算block-cout(滑动多少个block)= （（64-16）/8+1）*（（128-16）/8+1）= \n",
    "105 block\n",
    "\n",
    "水平竖直两个方向滑动步长。\n",
    "\n",
    "5. cell size 8*8 \n",
    "6. block = ?cell 16*16 = 2*2 = > 4cell  cell1-cell4 不可滑动\n",
    "7. bin?\n",
    "```"
   ]
  }
 ],
 "metadata": {
  "kernelspec": {
   "display_name": "Python [Root]",
   "language": "python",
   "name": "Python [Root]"
  },
  "language_info": {
   "codemirror_mode": {
    "name": "ipython",
    "version": 3
   },
   "file_extension": ".py",
   "mimetype": "text/x-python",
   "name": "python",
   "nbconvert_exporter": "python",
   "pygments_lexer": "ipython3",
   "version": "3.5.1"
  }
 },
 "nbformat": 4,
 "nbformat_minor": 2
}
