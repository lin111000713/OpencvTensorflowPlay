{
 "cells": [
  {
   "cell_type": "code",
   "execution_count": 2,
   "metadata": {
    "collapsed": false
   },
   "outputs": [
    {
     "data": {
      "text/plain": [
       "255"
      ]
     },
     "execution_count": 2,
     "metadata": {},
     "output_type": "execute_result"
    }
   ],
   "source": [
    "# 中值滤波 取中间值代替原来像素值过程 \n",
    "# 3*3模板 九个像素进行排序，排序之后中间值替换原来像素值\n",
    "\n",
    "import cv2\n",
    "import numpy as np\n",
    "# 读取噪声图片\n",
    "img = cv2.imread('image11.jpg',1)\n",
    "imgInfo = img.shape\n",
    "height = imgInfo[0]\n",
    "width = imgInfo[1]\n",
    "# 灰度化\n",
    "img = cv2.cvtColor(img,cv2.COLOR_BGR2GRAY)\n",
    "cv2.imshow('src',img)\n",
    "# 最终生成结果\n",
    "dst = np.zeros((height,width,3),np.uint8)\n",
    "\n",
    "# 数组，这九个元素。大小为9\n",
    "collect = np.zeros(9,np.uint8)\n",
    "\n",
    "# 两层for循环遍历每一个点\n",
    "for i in range(1,height-1):\n",
    "    for j in range(1,width-1):\n",
    "        \n",
    "        # 描述即将装取数据的下标\n",
    "        k = 0\n",
    "        # (3,3) 从-1开始到2\n",
    "        for m in range(-1,2): # -1 0 1\n",
    "            for n in range(-1,2):\n",
    "                # 获取当前灰度值\n",
    "                gray = img[i+m,j+n]\n",
    "                # 下标就是我们的k\n",
    "                collect[k] = gray\n",
    "                k = k+1\n",
    "        #  0 1 2 3 4 5 6 7 8\n",
    "        #  1\n",
    "        # 拿一个元素和其他元素进行比较\n",
    "        # 如果这个元素最大或者最小都放到最后面\n",
    "        # 完成大小排序\n",
    "        for k in range(0,9):\n",
    "            # 第一个元素\n",
    "            p1 = collect[k]\n",
    "            for t in range(k+1,9):\n",
    "                # 如果p1小于比较值\n",
    "                if p1<collect[t]:\n",
    "                    # 设置中间值，完成数据交换\n",
    "                    mid = collect[t]\n",
    "                    collect[t] = p1\n",
    "                    p1 = mid\n",
    "        # 取中间值\n",
    "        dst[i,j] = collect[4]\n",
    "cv2.imshow('dst',dst)\n",
    "cv2.waitKey(0)"
   ]
  }
 ],
 "metadata": {
  "kernelspec": {
   "display_name": "Python [Root]",
   "language": "python",
   "name": "Python [Root]"
  },
  "language_info": {
   "codemirror_mode": {
    "name": "ipython",
    "version": 3
   },
   "file_extension": ".py",
   "mimetype": "text/x-python",
   "name": "python",
   "nbconvert_exporter": "python",
   "pygments_lexer": "ipython3",
   "version": "3.5.1"
  }
 },
 "nbformat": 4,
 "nbformat_minor": 2
}
