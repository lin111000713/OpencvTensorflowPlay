{
 "cells": [
  {
   "cell_type": "code",
   "execution_count": 1,
   "metadata": {
    "collapsed": false
   },
   "outputs": [
    {
     "data": {
      "text/plain": [
       "255"
      ]
     },
     "execution_count": 1,
     "metadata": {},
     "output_type": "execute_result"
    }
   ],
   "source": [
    "# 灰度 直方图均衡化\n",
    "import cv2\n",
    "import numpy as np\n",
    "img = cv2.imread('image0.jpg',1)\n",
    "# 灰度化\n",
    "gray = cv2.cvtColor(img,cv2.COLOR_BGR2GRAY)\n",
    "cv2.imshow('src',gray)\n",
    "\n",
    "# equalizeHist 灰度图直方图均匀化\n",
    "dst = cv2.equalizeHist(gray)\n",
    "cv2.imshow('dst',dst)\n",
    "cv2.waitKey(0)"
   ]
  },
  {
   "cell_type": "code",
   "execution_count": 2,
   "metadata": {
    "collapsed": false
   },
   "outputs": [
    {
     "data": {
      "text/plain": [
       "255"
      ]
     },
     "execution_count": 2,
     "metadata": {},
     "output_type": "execute_result"
    }
   ],
   "source": [
    "# 彩色 直方图均衡化\n",
    "import cv2\n",
    "import numpy as np\n",
    "img = cv2.imread('image0.jpg',1)\n",
    "cv2.imshow('src',img)\n",
    "\n",
    "# 对于单通道进行直方图均衡化\n",
    "(b,g,r) = cv2.split(img)# 通道分解\n",
    "bH = cv2.equalizeHist(b)\n",
    "gH = cv2.equalizeHist(g)\n",
    "rH = cv2.equalizeHist(r)\n",
    "\n",
    "# merge合并三个通道\n",
    "result = cv2.merge((bH,gH,rH))# 通道合成\n",
    "cv2.imshow('dst',result)\n",
    "cv2.waitKey(0)"
   ]
  },
  {
   "cell_type": "code",
   "execution_count": 3,
   "metadata": {
    "collapsed": false
   },
   "outputs": [
    {
     "data": {
      "text/plain": [
       "255"
      ]
     },
     "execution_count": 3,
     "metadata": {},
     "output_type": "execute_result"
    }
   ],
   "source": [
    "# YUV 直方图均衡化\n",
    "import cv2\n",
    "import numpy as np\n",
    "img = cv2.imread('image0.jpg',1)\n",
    "\n",
    "# 灰色图片转换为YCrCb(YUV)\n",
    "imgYUV = cv2.cvtColor(img,cv2.COLOR_BGR2YCrCb)\n",
    "cv2.imshow('src',img)\n",
    "\n",
    "# 对图片进行分解，会得到一个三维的数组\n",
    "channelYUV = cv2.split(imgYUV)\n",
    "# 对第一维进行直方图均衡化\n",
    "channelYUV[0] = cv2.equalizeHist(channelYUV[0])\n",
    "# 再将这三个通道进行合并\n",
    "channels = cv2.merge(channelYUV)\n",
    "\n",
    "# 再将YUV转为BGR\n",
    "result = cv2.cvtColor(channels,cv2.COLOR_YCrCb2BGR)\n",
    "cv2.imshow('dst',result)\n",
    "cv2.waitKey(0)"
   ]
  }
 ],
 "metadata": {
  "kernelspec": {
   "display_name": "Python [Root]",
   "language": "python",
   "name": "Python [Root]"
  },
  "language_info": {
   "codemirror_mode": {
    "name": "ipython",
    "version": 3
   },
   "file_extension": ".py",
   "mimetype": "text/x-python",
   "name": "python",
   "nbconvert_exporter": "python",
   "pygments_lexer": "ipython3",
   "version": "3.5.1"
  }
 },
 "nbformat": 4,
 "nbformat_minor": 2
}
