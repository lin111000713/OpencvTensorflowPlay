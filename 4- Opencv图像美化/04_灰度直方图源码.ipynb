{
 "cells": [
  {
   "cell_type": "markdown",
   "metadata": {},
   "source": [
    "灰度直方图的本质是为了统计图像中每个像素灰度出现的概率\n",
    "\n",
    "横坐标: 0-255 纵坐标概率 p（0-1）"
   ]
  },
  {
   "cell_type": "code",
   "execution_count": 3,
   "metadata": {
    "collapsed": false
   },
   "outputs": [
    {
     "data": {
      "image/png": "[encoded data removed]",
      "text/plain": [
       "<matplotlib.figure.Figure at 0x14caeeda320>"
      ]
     },
     "metadata": {},
     "output_type": "display_data"
    },
    {
     "data": {
      "text/plain": [
       "255"
      ]
     },
     "execution_count": 3,
     "metadata": {},
     "output_type": "execute_result"
    }
   ],
   "source": [
    "# 1 0-255 2 概率 \n",
    "import cv2\n",
    "import numpy as np\n",
    "import matplotlib.pyplot as plt\n",
    "%matplotlib inline\n",
    "img = cv2.imread('image0.jpg',1)\n",
    "imgInfo = img.shape\n",
    "height = imgInfo[0]\n",
    "width = imgInfo[1]\n",
    "# 灰度化\n",
    "gray = cv2.cvtColor(img,cv2.COLOR_BGR2GRAY)\n",
    "# count 记录每个灰度值出现的概率\n",
    "count = np.zeros(256,np.float)\n",
    "# for循环遍历图片中的每个点\n",
    "for i in range(0,height):\n",
    "    for j in range(0,width):\n",
    "        # 获取当前图片的灰度值\n",
    "        pixel = gray[i,j]\n",
    "        # 转换为int类型\n",
    "        index = int(pixel)\n",
    "        # 把这个灰度系数，如count的第255个元素原本值是0现在+1\n",
    "        count[index] = count[index]+1\n",
    "# 统计完灰度等级，计算出现概率\n",
    "for i in range(0,255):\n",
    "    count[i] = count[i]/(height*width)\n",
    "# 使用Matplotlib的绘图方法\n",
    "# 0-255 个数256个\n",
    "x = np.linspace(0,255,256)\n",
    "y = count\n",
    "plt.bar(x,y,0.8,alpha=1,color='b')\n",
    "plt.show()\n",
    "cv2.waitKey(0)"
   ]
  }
 ],
 "metadata": {
  "kernelspec": {
   "display_name": "Python [Root]",
   "language": "python",
   "name": "Python [Root]"
  },
  "language_info": {
   "codemirror_mode": {
    "name": "ipython",
    "version": 3
   },
   "file_extension": ".py",
   "mimetype": "text/x-python",
   "name": "python",
   "nbconvert_exporter": "python",
   "pygments_lexer": "ipython3",
   "version": "3.5.1"
  }
 },
 "nbformat": 4,
 "nbformat_minor": 2
}
