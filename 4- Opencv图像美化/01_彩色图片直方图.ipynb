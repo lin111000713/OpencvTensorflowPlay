{
 "cells": [
  {
   "cell_type": "code",
   "execution_count": 2,
   "metadata": {
    "collapsed": false
   },
   "outputs": [
    {
     "data": {
      "text/plain": [
       "255"
      ]
     },
     "execution_count": 2,
     "metadata": {},
     "output_type": "execute_result"
    }
   ],
   "source": [
    "import cv2\n",
    "import numpy as np\n",
    "\n",
    "# 定义一个图片直方图方法\n",
    "def ImageHist(image,type):\n",
    "    color = (255,255,255)\n",
    "    windowName = 'Gray'\n",
    "    if type == 31:\n",
    "        color = (255,0,0)\n",
    "        windowName = 'B Hist'\n",
    "    elif type == 32:\n",
    "        color = (0,255,0)\n",
    "        windowName = 'G Hist'\n",
    "    elif type == 33:\n",
    "        color = (0,0,255)\n",
    "        windowName = 'R Hist'\n",
    "        \n",
    "    # 调用opencv api完成hist方法\n",
    "    # 参数1 image 注意加上[] 变成一个list \n",
    "    # 参数2 channels 通道 灰度直方图，下标[0] \n",
    "    # 参数3 mask None 蒙版\n",
    "    # 参数4 histSize 绘制直方图个数 256  \n",
    "    # 参数5 ranges 0-255\n",
    "    hist = cv2.calcHist([image],[0],None,[256],[0.0,255.0])\n",
    "    \n",
    "    # 定义最大值，定义最小值，定义最小值下标，定义最大值下标。\n",
    "    minV,maxV,minL,maxL = cv2.minMaxLoc(hist)\n",
    "    # 创建画布\n",
    "    histImg = np.zeros([256,256,3],np.uint8)\n",
    "    # 高度遍历\n",
    "    for h in range(256):\n",
    "        # 归一化数据，获取每一个直方图的数据*256 除以最大值。值会被归到0-256之间\n",
    "        intenNormal = int(hist[h]*256/maxV)\n",
    "        # 1. 画布；2.起点 3. 256 - 归一化之后的值 \n",
    "        cv2.line(histImg,(h,256),(h,256-intenNormal),color)\n",
    "    cv2.imshow(windowName,histImg)\n",
    "    return histImg\n",
    "img = cv2.imread('image0.jpg',1)\n",
    "# 将图片分层，RGB\n",
    "channels = cv2.split(img)# RGB - R G B\n",
    "for i in range(0,3):\n",
    "    ImageHist(channels[i],31+i)\n",
    "cv2.waitKey(0)"
   ]
  }
 ],
 "metadata": {
  "kernelspec": {
   "display_name": "Python [Root]",
   "language": "python",
   "name": "Python [Root]"
  },
  "language_info": {
   "codemirror_mode": {
    "name": "ipython",
    "version": 3
   },
   "file_extension": ".py",
   "mimetype": "text/x-python",
   "name": "python",
   "nbconvert_exporter": "python",
   "pygments_lexer": "ipython3",
   "version": "3.5.1"
  }
 },
 "nbformat": 4,
 "nbformat_minor": 2
}
