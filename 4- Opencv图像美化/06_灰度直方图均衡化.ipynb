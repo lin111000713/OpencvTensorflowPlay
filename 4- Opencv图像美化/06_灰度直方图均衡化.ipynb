{
 "cells": [
  {
   "cell_type": "code",
   "execution_count": 1,
   "metadata": {
    "collapsed": false
   },
   "outputs": [
    {
     "data": {
      "text/plain": [
       "255"
      ]
     },
     "execution_count": 1,
     "metadata": {},
     "output_type": "execute_result"
    }
   ],
   "source": [
    "# 直方图的本质：统计每个像素灰度 出现的概率 0-255 p(0-1)\n",
    "\n",
    "# 直方图均衡化意思:\n",
    "\n",
    "# 累计概率概念\n",
    "# 第一个灰度等级出现概率 0.2  累积概率0.2\n",
    "# 第二个灰度等级出现概率 0.3  累积概率0.5(0.2+0.3)\n",
    "# 第三个灰度等级出现概率 0.1  累积概率0.6(0.5+0.1)\n",
    "# 256个灰度等级，每个灰度等级都会有一个概率和一个累积概率\n",
    "# 100这个灰度等级 它的累积概率0.5  255*0.5 = new 的值\n",
    "# 可以得到100 到一个新的值的映射\n",
    "# 之后所有灰度等级为100的由 255*0.5 作为替代\n",
    "\n",
    "# 这个过程就叫做直方图的均衡化\n",
    "\n",
    "import cv2\n",
    "import numpy as np\n",
    "import matplotlib.pyplot as plt\n",
    "img = cv2.imread('image0.jpg',1)\n",
    "\n",
    "\n",
    "imgInfo = img.shape\n",
    "height = imgInfo[0]\n",
    "width = imgInfo[1]\n",
    "\n",
    "# 灰度化\n",
    "gray = cv2.cvtColor(img,cv2.COLOR_BGR2GRAY)\n",
    "cv2.imshow('src',gray)\n",
    "count = np.zeros(256,np.float)\n",
    "for i in range(0,height):\n",
    "    for j in range(0,width):\n",
    "        pixel = gray[i,j]\n",
    "        index = int(pixel)\n",
    "        count[index] = count[index]+1\n",
    "# 计算灰度单个概率\n",
    "for i in range(0,255):\n",
    "    count[i] = count[i]/(height*width)\n",
    "\n",
    "#计算累计概率\n",
    "sum1 = float(0)\n",
    "for i in range(0,256):\n",
    "    sum1 = sum1+count[i]\n",
    "    count[i] = sum1\n",
    "\n",
    "# 此时的count 存放的是每个灰度等级对应的累积概率\n",
    "    \n",
    "# print(count)\n",
    "# 计算映射表 数据类型为unit16\n",
    "map1 = np.zeros(256,np.uint16)\n",
    "\n",
    "for i in range(0,256):\n",
    "    # 因为此时的count值为累积概率，乘以255为真实的映射值。\n",
    "    map1[i] = np.uint16(count[i]*255)\n",
    "# 完成映射\n",
    "for i in range(0,height):\n",
    "    for j in range(0,width):\n",
    "        pixel = gray[i,j]\n",
    "        # 映射表的下标通过当前灰度值取到映射值\n",
    "        gray[i,j] = map1[pixel]\n",
    "cv2.imshow('dst',gray)\n",
    "cv2.waitKey(0)"
   ]
  }
 ],
 "metadata": {
  "kernelspec": {
   "display_name": "Python [Root]",
   "language": "python",
   "name": "Python [Root]"
  },
  "language_info": {
   "codemirror_mode": {
    "name": "ipython",
    "version": 3
   },
   "file_extension": ".py",
   "mimetype": "text/x-python",
   "name": "python",
   "nbconvert_exporter": "python",
   "pygments_lexer": "ipython3",
   "version": "3.5.1"
  }
 },
 "nbformat": 4,
 "nbformat_minor": 2
}
