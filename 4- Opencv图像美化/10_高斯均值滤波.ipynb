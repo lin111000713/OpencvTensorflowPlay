{
 "cells": [
  {
   "cell_type": "code",
   "execution_count": 1,
   "metadata": {
    "collapsed": false
   },
   "outputs": [
    {
     "data": {
      "text/plain": [
       "255"
      ]
     },
     "execution_count": 1,
     "metadata": {},
     "output_type": "execute_result"
    }
   ],
   "source": [
    "import cv2\n",
    "import numpy as np\n",
    "img = cv2.imread('image11.jpg',1)\n",
    "cv2.imshow('src',img)\n",
    "dst = cv2.GaussianBlur(img,(5,5),1.5)\n",
    "cv2.imshow('dst',dst)\n",
    "cv2.waitKey(0)"
   ]
  },
  {
   "cell_type": "markdown",
   "metadata": {},
   "source": [
    "定义一个`6*6`的模板,它里面的值全为1.\n",
    "\n",
    "使用这个全为1的数据，乘以一个(6,6) 矩阵中所有的图像数据，乘完之后除以36得到均值，将这个均值替换到中心的这个元素。实现均值滤波。"
   ]
  },
  {
   "cell_type": "code",
   "execution_count": 2,
   "metadata": {
    "collapsed": false
   },
   "outputs": [
    {
     "data": {
      "text/plain": [
       "255"
      ]
     },
     "execution_count": 2,
     "metadata": {},
     "output_type": "execute_result"
    }
   ],
   "source": [
    "# 均值 6*6 1 。 * 【6*6】/36 = mean -》P\n",
    "import cv2\n",
    "import numpy as np\n",
    "# 读取带噪声的图片\n",
    "img = cv2.imread('image11.jpg',1)\n",
    "cv2.imshow('src',img)\n",
    "imgInfo = img.shape\n",
    "height = imgInfo[0]\n",
    "width = imgInfo[1]\n",
    "\n",
    "# 目标图片\n",
    "dst = np.zeros((height,width,3),np.uint8)\n",
    "\n",
    "# 遍历所有点。(6,6)\n",
    "for i in range(3,height-3):\n",
    "    for j in range(3,width-3):\n",
    "        # 统计模板中6,6的矩阵元素和。\n",
    "        sum_b = int(0)\n",
    "        sum_g = int(0)\n",
    "        sum_r = int(0)\n",
    "        # (6,6)\n",
    "        for m in range(-3,3): # -3 -2 -1 0 1 2 共6个值\n",
    "            for n in range(-3,3):\n",
    "                # 读取6,6这个小块中的每一个数据累加\n",
    "                (b,g,r) = img[i+m,j+n]\n",
    "                sum_b = sum_b+int(b)\n",
    "                sum_g = sum_g+int(g)\n",
    "                sum_r = sum_r+int(r)\n",
    "        # bgr 获取均值\n",
    "        b = np.uint8(sum_b/36)\n",
    "        g = np.uint8(sum_g/36)\n",
    "        r = np.uint8(sum_r/36)\n",
    "        dst[i,j] = (b,g,r)\n",
    "cv2.imshow('dst',dst)\n",
    "cv2.waitKey(0)"
   ]
  }
 ],
 "metadata": {
  "kernelspec": {
   "display_name": "Python [Root]",
   "language": "python",
   "name": "Python [Root]"
  },
  "language_info": {
   "codemirror_mode": {
    "name": "ipython",
    "version": 3
   },
   "file_extension": ".py",
   "mimetype": "text/x-python",
   "name": "python",
   "nbconvert_exporter": "python",
   "pygments_lexer": "ipython3",
   "version": "3.5.1"
  }
 },
 "nbformat": 4,
 "nbformat_minor": 2
}
